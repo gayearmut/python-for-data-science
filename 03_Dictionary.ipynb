{
 "cells": [
  {
   "cell_type": "markdown",
   "id": "9de92415",
   "metadata": {},
   "source": [
    "## Sözlük"
   ]
  },
  {
   "cell_type": "markdown",
   "id": "affe64e7",
   "metadata": {},
   "source": [
    "Sözlük bir collection dur. Collection: birden fazla veri tipini içinde barındıran yapılar."
   ]
  },
  {
   "cell_type": "markdown",
   "id": "892b8ebc",
   "metadata": {},
   "source": [
    "## key - value pairing (anahtar-değer eşleşmesi) "
   ]
  },
  {
   "cell_type": "code",
   "execution_count": 1,
   "id": "020139ac",
   "metadata": {},
   "outputs": [],
   "source": [
    "benimYemeklerim = [\"Elma\",\"Karpuz\",\"Muz\"]"
   ]
  },
  {
   "cell_type": "code",
   "execution_count": 2,
   "id": "02b8910d",
   "metadata": {},
   "outputs": [],
   "source": [
    "benimKalorilerim =[100,200,300]"
   ]
  },
  {
   "cell_type": "code",
   "execution_count": 3,
   "id": "0cb3bc56",
   "metadata": {},
   "outputs": [],
   "source": [
    "benimSozluk = {\"anahtarKelime\" : \"deger\"}"
   ]
  },
  {
   "cell_type": "code",
   "execution_count": 4,
   "id": "812a27e3",
   "metadata": {},
   "outputs": [],
   "source": [
    "benimYemekKaloriS ={\"Elma\":100, \"Karpuz\":200, \"Muz\":300}"
   ]
  },
  {
   "cell_type": "code",
   "execution_count": 6,
   "id": "8aaa828f",
   "metadata": {},
   "outputs": [
    {
     "data": {
      "text/plain": [
       "300"
      ]
     },
     "execution_count": 6,
     "metadata": {},
     "output_type": "execute_result"
    }
   ],
   "source": [
    "benimYemekKaloriS[\"Muz\"]"
   ]
  },
  {
   "cell_type": "code",
   "execution_count": 7,
   "id": "c4f3649b",
   "metadata": {},
   "outputs": [
    {
     "data": {
      "text/plain": [
       "{'Elma': 100, 'Karpuz': 200, 'Muz': 300}"
      ]
     },
     "execution_count": 7,
     "metadata": {},
     "output_type": "execute_result"
    }
   ],
   "source": [
    "benimYemekKaloriS"
   ]
  },
  {
   "cell_type": "code",
   "execution_count": 8,
   "id": "c7de4ac0",
   "metadata": {},
   "outputs": [],
   "source": [
    "benimYemekKaloriS[\"Elma\"] = 200"
   ]
  },
  {
   "cell_type": "code",
   "execution_count": 9,
   "id": "3d4dc973",
   "metadata": {},
   "outputs": [
    {
     "data": {
      "text/plain": [
       "{'Elma': 200, 'Karpuz': 200, 'Muz': 300}"
      ]
     },
     "execution_count": 9,
     "metadata": {},
     "output_type": "execute_result"
    }
   ],
   "source": [
    "benimYemekKaloriS"
   ]
  },
  {
   "cell_type": "code",
   "execution_count": 10,
   "id": "7e71a78b",
   "metadata": {},
   "outputs": [
    {
     "data": {
      "text/plain": [
       "dict_keys(['Elma', 'Karpuz', 'Muz'])"
      ]
     },
     "execution_count": 10,
     "metadata": {},
     "output_type": "execute_result"
    }
   ],
   "source": [
    "benimYemekKaloriS.keys()"
   ]
  },
  {
   "cell_type": "code",
   "execution_count": 11,
   "id": "0a3d1041",
   "metadata": {},
   "outputs": [
    {
     "data": {
      "text/plain": [
       "dict_values([200, 200, 300])"
      ]
     },
     "execution_count": 11,
     "metadata": {},
     "output_type": "execute_result"
    }
   ],
   "source": [
    "benimYemekKaloriS.values()"
   ]
  },
  {
   "cell_type": "code",
   "execution_count": null,
   "id": "a10b3535",
   "metadata": {},
   "outputs": [],
   "source": []
  }
 ],
 "metadata": {
  "kernelspec": {
   "display_name": "Python 3 (ipykernel)",
   "language": "python",
   "name": "python3"
  },
  "language_info": {
   "codemirror_mode": {
    "name": "ipython",
    "version": 3
   },
   "file_extension": ".py",
   "mimetype": "text/x-python",
   "name": "python",
   "nbconvert_exporter": "python",
   "pygments_lexer": "ipython3",
   "version": "3.9.17"
  }
 },
 "nbformat": 4,
 "nbformat_minor": 5
}
