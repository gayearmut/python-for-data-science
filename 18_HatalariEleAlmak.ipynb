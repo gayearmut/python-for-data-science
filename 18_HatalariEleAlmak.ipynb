{
 "cells": [
  {
   "cell_type": "markdown",
   "id": "ea907a96",
   "metadata": {},
   "source": [
    "##  try & except & else & finally"
   ]
  },
  {
   "cell_type": "code",
   "execution_count": 2,
   "id": "97ed7ef0",
   "metadata": {},
   "outputs": [
    {
     "name": "stdout",
     "output_type": "stream",
     "text": [
      "numara girin: jh\n",
      "lütfen sadece numara girin: \n",
      "finally hep çalışır.\n",
      "numara girin: 57\n",
      "Teşekkürler\n",
      "finally hep çalışır.\n"
     ]
    }
   ],
   "source": [
    "while True:\n",
    "    try:\n",
    "        number = int(input(\"numara girin: \"))\n",
    "    except:\n",
    "        print(\"lütfen sadece numara girin: \")\n",
    "        continue\n",
    "    else:\n",
    "        print(\"Teşekkürler\")\n",
    "        break\n",
    "    finally:\n",
    "        print(\"finally hep çalışır.\")"
   ]
  },
  {
   "cell_type": "code",
   "execution_count": null,
   "id": "1aa52cd4",
   "metadata": {},
   "outputs": [],
   "source": []
  }
 ],
 "metadata": {
  "kernelspec": {
   "display_name": "Python 3 (ipykernel)",
   "language": "python",
   "name": "python3"
  },
  "language_info": {
   "codemirror_mode": {
    "name": "ipython",
    "version": 3
   },
   "file_extension": ".py",
   "mimetype": "text/x-python",
   "name": "python",
   "nbconvert_exporter": "python",
   "pygments_lexer": "ipython3",
   "version": "3.9.17"
  }
 },
 "nbformat": 4,
 "nbformat_minor": 5
}
