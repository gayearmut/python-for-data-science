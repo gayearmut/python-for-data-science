{
 "cells": [
  {
   "cell_type": "code",
   "execution_count": null,
   "id": "e7a9afd2",
   "metadata": {},
   "outputs": [
    {
     "name": "stdout",
     "output_type": "stream",
     "text": [
      "ilk:10\n",
      "ikinci:20\n",
      "işlem :+-*/+\n",
      "10 + 20 = 30\n",
      "ilk:20\n",
      "ikinci:sdjh\n",
      "Lütfen saıları düzgün giriniz.\n"
     ]
    }
   ],
   "source": [
    "def hesapla(a,b,islem):\n",
    "    if islem not in \"+ - * /\" :\n",
    "         return \"Lütfen geçerli işlam girin: +-*/\"\n",
    "    if islem == \"+\":\n",
    "        return (str(a) + \" + \" + str(b) + \" = \" + str(a+b))\n",
    "    if islem == \"-\":\n",
    "        return (str(a) + \" + \" + str(b) + \" = \" + str(a+b))\n",
    "    if islem == \"*\":\n",
    "        return(str(a) + \" * \" + str(b) + \" = \" + str(a*b))\n",
    "    if islem == \"/\":\n",
    "        return(str(a) + \"/\" + str(b) + \"=\" + str(a/b))\n",
    "while True:\n",
    "    try:\n",
    "        a = int(input(\"ilk:\"))\n",
    "        b = int(input(\"ikinci:\"))\n",
    "        islem = input(\"işlem :+-*/\")\n",
    "        print(hesapla(a,b,islem))\n",
    "    except:\n",
    "        print(\"Lütfen saıları düzgün giriniz.\")\n",
    "    \n",
    "    "
   ]
  },
  {
   "cell_type": "code",
   "execution_count": null,
   "id": "ee6b575b",
   "metadata": {},
   "outputs": [],
   "source": []
  },
  {
   "cell_type": "code",
   "execution_count": null,
   "id": "4cb8393d",
   "metadata": {},
   "outputs": [],
   "source": []
  },
  {
   "cell_type": "code",
   "execution_count": null,
   "id": "33c7a809",
   "metadata": {},
   "outputs": [],
   "source": []
  }
 ],
 "metadata": {
  "kernelspec": {
   "display_name": "Python 3 (ipykernel)",
   "language": "python",
   "name": "python3"
  },
  "language_info": {
   "codemirror_mode": {
    "name": "ipython",
    "version": 3
   },
   "file_extension": ".py",
   "mimetype": "text/x-python",
   "name": "python",
   "nbconvert_exporter": "python",
   "pygments_lexer": "ipython3",
   "version": "3.9.17"
  }
 },
 "nbformat": 4,
 "nbformat_minor": 5
}
