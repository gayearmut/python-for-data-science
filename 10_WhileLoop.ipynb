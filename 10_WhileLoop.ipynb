{
 "cells": [
  {
   "cell_type": "code",
   "execution_count": 1,
   "id": "be97fe6c",
   "metadata": {},
   "outputs": [],
   "source": [
    "x = 0"
   ]
  },
  {
   "cell_type": "code",
   "execution_count": 2,
   "id": "5949e97e",
   "metadata": {},
   "outputs": [
    {
     "name": "stdout",
     "output_type": "stream",
     "text": [
      "0\n",
      "1\n",
      "2\n",
      "3\n",
      "4\n",
      "5\n",
      "6\n",
      "7\n",
      "8\n",
      "9\n"
     ]
    }
   ],
   "source": [
    "while x<10:\n",
    "    print(x)\n",
    "    x = x+1"
   ]
  },
  {
   "cell_type": "code",
   "execution_count": 3,
   "id": "e2e8eeeb",
   "metadata": {},
   "outputs": [],
   "source": [
    "benimListem = [10,20,30,40,50]"
   ]
  },
  {
   "cell_type": "code",
   "execution_count": 4,
   "id": "1c25d9bb",
   "metadata": {},
   "outputs": [
    {
     "name": "stdout",
     "output_type": "stream",
     "text": [
      "30 hala listenin içinde\n",
      "30 hala listenin içinde\n",
      "30 hala listenin içinde\n"
     ]
    }
   ],
   "source": [
    "while 30 in benimListem:\n",
    "    print(\"30 hala listenin içinde\")\n",
    "    benimListem.pop()"
   ]
  },
  {
   "cell_type": "code",
   "execution_count": 5,
   "id": "fb2102f4",
   "metadata": {},
   "outputs": [
    {
     "name": "stdout",
     "output_type": "stream",
     "text": [
      "0\n",
      "1\n",
      "2\n",
      "3\n"
     ]
    }
   ],
   "source": [
    "num = 0\n",
    "while num <5 :\n",
    "    if num ==4:\n",
    "        break\n",
    "    print(num)\n",
    "    num = num + 1"
   ]
  },
  {
   "cell_type": "code",
   "execution_count": 9,
   "id": "0b26239e",
   "metadata": {},
   "outputs": [
    {
     "name": "stdout",
     "output_type": "stream",
     "text": [
      "new value :0\n",
      "new value :1\n",
      "new value :2\n",
      "new value :3\n",
      "new value :4\n",
      "new value :5\n",
      "new value :6\n",
      "new value :7\n",
      "new value :8\n",
      "new value :9\n",
      "new value :10\n",
      "new value :11\n",
      "new value :12\n",
      "new value :13\n",
      "new value :14\n"
     ]
    }
   ],
   "source": [
    "newV = 0\n",
    "while newV < 15:\n",
    "    print (f\"new value :{newV}\")\n",
    "    newV = newV +1"
   ]
  },
  {
   "cell_type": "markdown",
   "id": "196fbd17",
   "metadata": {},
   "source": [
    " print(\"new value:\" + str(newV))"
   ]
  },
  {
   "cell_type": "markdown",
   "id": "2e5fbe9f",
   "metadata": {},
   "source": [
    " print (f\"new value :{newV}\") f ile bu tarz kullanım bizim yazmamıza çok yardımcı olur"
   ]
  },
  {
   "cell_type": "code",
   "execution_count": null,
   "id": "99328889",
   "metadata": {},
   "outputs": [],
   "source": []
  }
 ],
 "metadata": {
  "kernelspec": {
   "display_name": "Python 3 (ipykernel)",
   "language": "python",
   "name": "python3"
  },
  "language_info": {
   "codemirror_mode": {
    "name": "ipython",
    "version": 3
   },
   "file_extension": ".py",
   "mimetype": "text/x-python",
   "name": "python",
   "nbconvert_exporter": "python",
   "pygments_lexer": "ipython3",
   "version": "3.9.17"
  }
 },
 "nbformat": 4,
 "nbformat_minor": 5
}
