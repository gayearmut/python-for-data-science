{
  "nbformat": 4,
  "nbformat_minor": 0,
  "metadata": {
    "colab": {
      "provenance": []
    },
    "kernelspec": {
      "name": "python3",
      "display_name": "Python 3"
    },
    "language_info": {
      "name": "python"
    }
  },
  "cells": [
    {
      "cell_type": "markdown",
      "source": [
        "List and dictionary comprehension example 1:\n",
        "\n",
        "**Bir verisetindeki değişken isimlerini değiştirmek\n",
        "\n",
        "#before :\n",
        "['total','speeding','alcohol', 'no_distrected''no_previous','ins_premium','ins_loses','abbrev']\n",
        "\n",
        "#after :\n",
        "['TOTAL','SPEEDING','ALCOHOL','NOT_DISTRACTED','NO_PREVIOUS','INS_PREMIUM','INS_LOSES','ABBREV']\n",
        "\n"
      ],
      "metadata": {
        "id": "eMeHq6WArw8v"
      }
    },
    {
      "cell_type": "markdown",
      "source": [],
      "metadata": {
        "id": "COTDIsdvs8nI"
      }
    },
    {
      "cell_type": "code",
      "source": [
        "import seaborn as sns"
      ],
      "metadata": {
        "id": "RvwYUbAYtBby"
      },
      "execution_count": null,
      "outputs": []
    },
    {
      "cell_type": "code",
      "source": [
        "df = sns.load_dataset(\"car_crashes\")\n",
        "df.columns"
      ],
      "metadata": {
        "colab": {
          "base_uri": "https://localhost:8080/"
        },
        "id": "xaQhWWVBtKie",
        "outputId": "11a00f3c-6273-4b5a-8041-99e61be6768f"
      },
      "execution_count": null,
      "outputs": [
        {
          "output_type": "execute_result",
          "data": {
            "text/plain": [
              "Index(['total', 'speeding', 'alcohol', 'not_distracted', 'no_previous',\n",
              "       'ins_premium', 'ins_losses', 'abbrev'],\n",
              "      dtype='object')"
            ]
          },
          "metadata": {},
          "execution_count": 2
        }
      ]
    },
    {
      "cell_type": "code",
      "source": [
        "for col in df.columns:\n",
        "  print(col.upper())"
      ],
      "metadata": {
        "colab": {
          "base_uri": "https://localhost:8080/"
        },
        "id": "AhgZYkyZyuUK",
        "outputId": "4b97e478-0155-45cf-90b5-d65567b80ac1"
      },
      "execution_count": null,
      "outputs": [
        {
          "output_type": "stream",
          "name": "stdout",
          "text": [
            "TOTAL\n",
            "SPEEDING\n",
            "ALCOHOL\n",
            "NOT_DISTRACTED\n",
            "NO_PREVIOUS\n",
            "INS_PREMIUM\n",
            "INS_LOSSES\n",
            "ABBREV\n"
          ]
        }
      ]
    },
    {
      "cell_type": "code",
      "source": [
        "a = []\n",
        "\n",
        "for col in df.columns:\n",
        "  a.append(col.upper())"
      ],
      "metadata": {
        "id": "WfYU-Xcuy6sv"
      },
      "execution_count": null,
      "outputs": []
    },
    {
      "cell_type": "code",
      "source": [
        "print(a)"
      ],
      "metadata": {
        "colab": {
          "base_uri": "https://localhost:8080/"
        },
        "id": "AyVJcQNkzIeY",
        "outputId": "fd740836-f626-4500-c166-6ae3cd248a70"
      },
      "execution_count": null,
      "outputs": [
        {
          "output_type": "stream",
          "name": "stdout",
          "text": [
            "['TOTAL', 'SPEEDING', 'ALCOHOL', 'NOT_DISTRACTED', 'NO_PREVIOUS', 'INS_PREMIUM', 'INS_LOSSES', 'ABBREV']\n"
          ]
        }
      ]
    },
    {
      "cell_type": "code",
      "source": [
        "df.columns = a"
      ],
      "metadata": {
        "id": "WJspGyIBzLkI"
      },
      "execution_count": null,
      "outputs": []
    },
    {
      "cell_type": "code",
      "source": [
        "df = sns.load_dataset(\"car_crashes\")"
      ],
      "metadata": {
        "id": "LV2b_drJzQ6X"
      },
      "execution_count": null,
      "outputs": []
    },
    {
      "cell_type": "code",
      "source": [
        "df.columns = [col.upper() for col in df.columns]"
      ],
      "metadata": {
        "id": "CdTVW5iczg8v"
      },
      "execution_count": null,
      "outputs": []
    },
    {
      "cell_type": "code",
      "source": [
        "print(df.columns)"
      ],
      "metadata": {
        "colab": {
          "base_uri": "https://localhost:8080/"
        },
        "id": "jOoImmwJzwUB",
        "outputId": "8bcc9fc3-9d23-4bc1-eab6-e1e9374c339d"
      },
      "execution_count": null,
      "outputs": [
        {
          "output_type": "stream",
          "name": "stdout",
          "text": [
            "Index(['TOTAL', 'SPEEDING', 'ALCOHOL', 'NOT_DISTRACTED', 'NO_PREVIOUS',\n",
            "       'INS_PREMIUM', 'INS_LOSSES', 'ABBREV'],\n",
            "      dtype='object')\n"
          ]
        }
      ]
    },
    {
      "cell_type": "markdown",
      "source": [
        "isminde \"INS\" olan değişkenlerin başına FLAG diğerlerine NO_FLAG eklemek istiyoruz."
      ],
      "metadata": {
        "id": "0C1N31u80WK0"
      }
    },
    {
      "cell_type": "code",
      "source": [
        "[col for col in df.columns if \"INS\" in col]"
      ],
      "metadata": {
        "colab": {
          "base_uri": "https://localhost:8080/"
        },
        "id": "IbLyxF3e0aRc",
        "outputId": "47e4e674-6bf7-4702-bb65-41d0be2024d0"
      },
      "execution_count": null,
      "outputs": [
        {
          "output_type": "execute_result",
          "data": {
            "text/plain": [
              "['INS_PREMIUM', 'INS_LOSSES']"
            ]
          },
          "metadata": {},
          "execution_count": 10
        }
      ]
    },
    {
      "cell_type": "code",
      "source": [
        "[\"FLAG_\" + col for col in df.columns if \"INS\" in col]"
      ],
      "metadata": {
        "colab": {
          "base_uri": "https://localhost:8080/"
        },
        "id": "X4z5xQM90yiB",
        "outputId": "28e96826-ef12-4d57-d3c0-73087a09158d"
      },
      "execution_count": null,
      "outputs": [
        {
          "output_type": "execute_result",
          "data": {
            "text/plain": [
              "['FLAG_INS_PREMIUM', 'FLAG_INS_LOSSES']"
            ]
          },
          "metadata": {},
          "execution_count": 11
        }
      ]
    },
    {
      "cell_type": "code",
      "source": [
        "[\"FLAG_\" + col if \"INS\" in col else \"NO_FLAG_\" + col for col in df.columns ]"
      ],
      "metadata": {
        "colab": {
          "base_uri": "https://localhost:8080/"
        },
        "id": "xFbMY9mY04DM",
        "outputId": "4725cae2-bbd6-4103-b81f-4b17c773a3fa"
      },
      "execution_count": null,
      "outputs": [
        {
          "output_type": "execute_result",
          "data": {
            "text/plain": [
              "['NO_FLAG_TOTAL',\n",
              " 'NO_FLAG_SPEEDING',\n",
              " 'NO_FLAG_ALCOHOL',\n",
              " 'NO_FLAG_NOT_DISTRACTED',\n",
              " 'NO_FLAG_NO_PREVIOUS',\n",
              " 'FLAG_INS_PREMIUM',\n",
              " 'FLAG_INS_LOSSES',\n",
              " 'NO_FLAG_ABBREV']"
            ]
          },
          "metadata": {},
          "execution_count": 12
        }
      ]
    },
    {
      "cell_type": "code",
      "source": [
        "df.columns = [\"FLAG_\" + col if \"INS\" in col else \"NO_FLAG_\" + col for col in df.columns ]"
      ],
      "metadata": {
        "id": "Yg73N-f61Gxo"
      },
      "execution_count": null,
      "outputs": []
    },
    {
      "cell_type": "code",
      "source": [],
      "metadata": {
        "id": "soxiPgU41OhC"
      },
      "execution_count": null,
      "outputs": []
    }
  ]
}