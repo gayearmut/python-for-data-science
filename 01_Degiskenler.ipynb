{
 "cells": [
  {
   "cell_type": "markdown",
   "id": "7b5466cf",
   "metadata": {},
   "source": [
    "Burayı kullanırken shift + enter kullanıyoruz.\n",
    "Bu derste değişkenlerden bahsedeceğiz."
   ]
  },
  {
   "cell_type": "code",
   "execution_count": 1,
   "id": "f1b2e31e",
   "metadata": {},
   "outputs": [],
   "source": [
    "x = 5"
   ]
  },
  {
   "cell_type": "code",
   "execution_count": 3,
   "id": "cfbf56fe",
   "metadata": {},
   "outputs": [],
   "source": [
    "y = 4"
   ]
  },
  {
   "cell_type": "code",
   "execution_count": 4,
   "id": "242e6e33",
   "metadata": {},
   "outputs": [
    {
     "data": {
      "text/plain": [
       "20"
      ]
     },
     "execution_count": 4,
     "metadata": {},
     "output_type": "execute_result"
    }
   ],
   "source": [
    "x * y"
   ]
  },
  {
   "cell_type": "markdown",
   "id": "6767143a",
   "metadata": {},
   "source": [
    "tamsayı, ondalıklı sayı, metinler gibi değişkenler var . otomatik tamamlama için tab tuşu kullanılıyor"
   ]
  },
  {
   "cell_type": "markdown",
   "id": "b7ecc4c4",
   "metadata": {},
   "source": [
    "bir şeyin veritipini öğrenmek için type(VariableName)"
   ]
  },
  {
   "cell_type": "markdown",
   "id": "330a8be6",
   "metadata": {},
   "source": [
    "## Integer & Float\n",
    "tamsayılar int - kesirli sayılar float"
   ]
  },
  {
   "cell_type": "code",
   "execution_count": 5,
   "id": "63a24f64",
   "metadata": {},
   "outputs": [],
   "source": [
    "deger = 10\n",
    "deger2 = 20"
   ]
  },
  {
   "cell_type": "code",
   "execution_count": 6,
   "id": "dad5f415",
   "metadata": {
    "scrolled": true
   },
   "outputs": [
    {
     "data": {
      "text/plain": [
       "30"
      ]
     },
     "execution_count": 6,
     "metadata": {},
     "output_type": "execute_result"
    }
   ],
   "source": [
    "deger + deger2"
   ]
  },
  {
   "cell_type": "code",
   "execution_count": 7,
   "id": "dfd63670",
   "metadata": {},
   "outputs": [
    {
     "data": {
      "text/plain": [
       "int"
      ]
     },
     "execution_count": 7,
     "metadata": {},
     "output_type": "execute_result"
    }
   ],
   "source": [
    "type(deger)"
   ]
  },
  {
   "cell_type": "code",
   "execution_count": 8,
   "id": "e5939890",
   "metadata": {},
   "outputs": [],
   "source": [
    "sonuc = deger2/deger"
   ]
  },
  {
   "cell_type": "code",
   "execution_count": 9,
   "id": "fd7090de",
   "metadata": {},
   "outputs": [
    {
     "data": {
      "text/plain": [
       "float"
      ]
     },
     "execution_count": 9,
     "metadata": {},
     "output_type": "execute_result"
    }
   ],
   "source": [
    "type(sonuc)"
   ]
  },
  {
   "cell_type": "code",
   "execution_count": 10,
   "id": "97470537",
   "metadata": {},
   "outputs": [
    {
     "name": "stdout",
     "output_type": "stream",
     "text": [
      "2.0\n"
     ]
    }
   ],
   "source": [
    "print(sonuc)"
   ]
  },
  {
   "cell_type": "markdown",
   "id": "eaf8d8fe",
   "metadata": {},
   "source": [
    "## Matemetiksel İşlemler"
   ]
  },
  {
   "cell_type": "code",
   "execution_count": 11,
   "id": "906d41d7",
   "metadata": {},
   "outputs": [],
   "source": [
    "x = 5\n",
    "y = 3 "
   ]
  },
  {
   "cell_type": "code",
   "execution_count": 12,
   "id": "040526ec",
   "metadata": {},
   "outputs": [
    {
     "data": {
      "text/plain": [
       "150"
      ]
     },
     "execution_count": 12,
     "metadata": {},
     "output_type": "execute_result"
    }
   ],
   "source": [
    "x* y* 10"
   ]
  },
  {
   "cell_type": "code",
   "execution_count": 13,
   "id": "4f67e420",
   "metadata": {},
   "outputs": [
    {
     "data": {
      "text/plain": [
       "625"
      ]
     },
     "execution_count": 13,
     "metadata": {},
     "output_type": "execute_result"
    }
   ],
   "source": [
    "x*x*x*x"
   ]
  },
  {
   "cell_type": "markdown",
   "id": "e044bd6b",
   "metadata": {},
   "source": [
    "üzeri yapmak için : x**4 x üzeri 4 demek"
   ]
  },
  {
   "cell_type": "code",
   "execution_count": 14,
   "id": "8a2188d1",
   "metadata": {},
   "outputs": [
    {
     "data": {
      "text/plain": [
       "625"
      ]
     },
     "execution_count": 14,
     "metadata": {},
     "output_type": "execute_result"
    }
   ],
   "source": [
    "x**4"
   ]
  },
  {
   "cell_type": "code",
   "execution_count": 15,
   "id": "c79c7de3",
   "metadata": {},
   "outputs": [
    {
     "data": {
      "text/plain": [
       "0"
      ]
     },
     "execution_count": 15,
     "metadata": {},
     "output_type": "execute_result"
    }
   ],
   "source": [
    "#remainder - kalanını bulmak\n",
    "10 % 2"
   ]
  },
  {
   "cell_type": "code",
   "execution_count": 16,
   "id": "30792175",
   "metadata": {},
   "outputs": [
    {
     "data": {
      "text/plain": [
       "1"
      ]
     },
     "execution_count": 16,
     "metadata": {},
     "output_type": "execute_result"
    }
   ],
   "source": [
    "11 % 5"
   ]
  },
  {
   "cell_type": "markdown",
   "id": "820422f8",
   "metadata": {},
   "source": [
    "Kullanıcıdan değer olmak için kullanılan komut : input"
   ]
  },
  {
   "cell_type": "code",
   "execution_count": 18,
   "id": "5cc8f90e",
   "metadata": {},
   "outputs": [
    {
     "name": "stdout",
     "output_type": "stream",
     "text": [
      "yaşınızı girin: 23\n"
     ]
    }
   ],
   "source": [
    "yas = input (\"yaşınızı girin: \")"
   ]
  },
  {
   "cell_type": "markdown",
   "id": "53d86b2f",
   "metadata": {},
   "source": [
    "burdaki yas string olarak tutulur"
   ]
  },
  {
   "cell_type": "code",
   "execution_count": 19,
   "id": "ccd5f988",
   "metadata": {},
   "outputs": [
    {
     "data": {
      "text/plain": [
       "'23'"
      ]
     },
     "execution_count": 19,
     "metadata": {},
     "output_type": "execute_result"
    }
   ],
   "source": [
    "yas"
   ]
  },
  {
   "cell_type": "code",
   "execution_count": 20,
   "id": "68793a74",
   "metadata": {},
   "outputs": [
    {
     "data": {
      "text/plain": [
       "str"
      ]
     },
     "execution_count": 20,
     "metadata": {},
     "output_type": "execute_result"
    }
   ],
   "source": [
    "type(yas)"
   ]
  },
  {
   "cell_type": "markdown",
   "id": "39cbe1ad",
   "metadata": {},
   "source": [
    "## String"
   ]
  },
  {
   "cell_type": "code",
   "execution_count": 22,
   "id": "d2b6a969",
   "metadata": {},
   "outputs": [
    {
     "data": {
      "text/plain": [
       "'merhaba dünya'"
      ]
     },
     "execution_count": 22,
     "metadata": {},
     "output_type": "execute_result"
    }
   ],
   "source": [
    "\"merhaba dünya\""
   ]
  },
  {
   "cell_type": "code",
   "execution_count": 23,
   "id": "6fc4b9ca",
   "metadata": {},
   "outputs": [],
   "source": [
    "g = \"armut\""
   ]
  },
  {
   "cell_type": "code",
   "execution_count": 24,
   "id": "fb23cf92",
   "metadata": {},
   "outputs": [
    {
     "data": {
      "text/plain": [
       "5"
      ]
     },
     "execution_count": 24,
     "metadata": {},
     "output_type": "execute_result"
    }
   ],
   "source": [
    "len(g)"
   ]
  },
  {
   "cell_type": "code",
   "execution_count": 1,
   "id": "4d5fea3e",
   "metadata": {},
   "outputs": [],
   "source": [
    "isimString = \"gaye armut\""
   ]
  },
  {
   "cell_type": "code",
   "execution_count": 3,
   "id": "707e8bb9",
   "metadata": {},
   "outputs": [
    {
     "data": {
      "text/plain": [
       "'gaye armut'"
      ]
     },
     "execution_count": 3,
     "metadata": {},
     "output_type": "execute_result"
    }
   ],
   "source": [
    "isimString"
   ]
  },
  {
   "cell_type": "markdown",
   "id": "f6eda66a",
   "metadata": {},
   "source": [
    "## Index"
   ]
  },
  {
   "cell_type": "code",
   "execution_count": 5,
   "id": "480ac213",
   "metadata": {},
   "outputs": [
    {
     "data": {
      "text/plain": [
       "'g'"
      ]
     },
     "execution_count": 5,
     "metadata": {},
     "output_type": "execute_result"
    }
   ],
   "source": [
    "isimString[0]"
   ]
  },
  {
   "cell_type": "code",
   "execution_count": 6,
   "id": "daceeebf",
   "metadata": {},
   "outputs": [
    {
     "data": {
      "text/plain": [
       "'m'"
      ]
     },
     "execution_count": 6,
     "metadata": {},
     "output_type": "execute_result"
    }
   ],
   "source": [
    "isimString[7]"
   ]
  },
  {
   "cell_type": "code",
   "execution_count": 7,
   "id": "6ee0759a",
   "metadata": {},
   "outputs": [
    {
     "data": {
      "text/plain": [
       "'t'"
      ]
     },
     "execution_count": 7,
     "metadata": {},
     "output_type": "execute_result"
    }
   ],
   "source": [
    "isimString[-1]"
   ]
  },
  {
   "cell_type": "code",
   "execution_count": 10,
   "id": "6e622e26",
   "metadata": {},
   "outputs": [],
   "source": [
    "yeniString = \"0123456789\""
   ]
  },
  {
   "cell_type": "code",
   "execution_count": 11,
   "id": "86922692",
   "metadata": {},
   "outputs": [
    {
     "data": {
      "text/plain": [
       "'23456789'"
      ]
     },
     "execution_count": 11,
     "metadata": {},
     "output_type": "execute_result"
    }
   ],
   "source": [
    "yeniString[2:]"
   ]
  },
  {
   "cell_type": "markdown",
   "id": "c3fa27ba",
   "metadata": {},
   "source": [
    "[2:] ilk ikiyi almadı kalanı aldı"
   ]
  },
  {
   "cell_type": "code",
   "execution_count": 12,
   "id": "d5823d0c",
   "metadata": {},
   "outputs": [],
   "source": [
    "harfString = \"abcdefg\""
   ]
  },
  {
   "cell_type": "code",
   "execution_count": 14,
   "id": "98091930",
   "metadata": {},
   "outputs": [
    {
     "data": {
      "text/plain": [
       "'defg'"
      ]
     },
     "execution_count": 14,
     "metadata": {},
     "output_type": "execute_result"
    }
   ],
   "source": [
    "harfString [3:]"
   ]
  },
  {
   "cell_type": "code",
   "execution_count": 15,
   "id": "8b034ed1",
   "metadata": {},
   "outputs": [
    {
     "data": {
      "text/plain": [
       "'abc'"
      ]
     },
     "execution_count": 15,
     "metadata": {},
     "output_type": "execute_result"
    }
   ],
   "source": [
    "harfString [:3]"
   ]
  },
  {
   "cell_type": "markdown",
   "id": "fbde76b6",
   "metadata": {},
   "source": [
    "## Slicing"
   ]
  },
  {
   "cell_type": "code",
   "execution_count": 16,
   "id": "cce71d2b",
   "metadata": {},
   "outputs": [],
   "source": [
    "gelenVeri = \"ahmet65\""
   ]
  },
  {
   "cell_type": "code",
   "execution_count": 17,
   "id": "19ec7a8f",
   "metadata": {},
   "outputs": [
    {
     "data": {
      "text/plain": [
       "'6'"
      ]
     },
     "execution_count": 17,
     "metadata": {},
     "output_type": "execute_result"
    }
   ],
   "source": [
    "gelenVeri[-2]"
   ]
  },
  {
   "cell_type": "code",
   "execution_count": 18,
   "id": "d831bf50",
   "metadata": {},
   "outputs": [
    {
     "data": {
      "text/plain": [
       "'ahmet'"
      ]
     },
     "execution_count": 18,
     "metadata": {},
     "output_type": "execute_result"
    }
   ],
   "source": [
    "gelenVeri[:-2]"
   ]
  },
  {
   "cell_type": "code",
   "execution_count": 19,
   "id": "dfc5c7ba",
   "metadata": {},
   "outputs": [
    {
     "data": {
      "text/plain": [
       "'65'"
      ]
     },
     "execution_count": 19,
     "metadata": {},
     "output_type": "execute_result"
    }
   ],
   "source": [
    "gelenVeri[-2:]"
   ]
  },
  {
   "cell_type": "code",
   "execution_count": 20,
   "id": "33f1a742",
   "metadata": {},
   "outputs": [
    {
     "data": {
      "text/plain": [
       "'me'"
      ]
     },
     "execution_count": 20,
     "metadata": {},
     "output_type": "execute_result"
    }
   ],
   "source": [
    "gelenVeri[2:4]"
   ]
  },
  {
   "cell_type": "code",
   "execution_count": 22,
   "id": "c369514c",
   "metadata": {},
   "outputs": [],
   "source": [
    "#Step Size"
   ]
  },
  {
   "cell_type": "code",
   "execution_count": 25,
   "id": "e702923c",
   "metadata": {},
   "outputs": [
    {
     "data": {
      "text/plain": [
       "'ae5'"
      ]
     },
     "execution_count": 25,
     "metadata": {},
     "output_type": "execute_result"
    }
   ],
   "source": [
    "gelenVeri[::3] #step size"
   ]
  },
  {
   "cell_type": "code",
   "execution_count": 26,
   "id": "80bb155b",
   "metadata": {},
   "outputs": [
    {
     "data": {
      "text/plain": [
       "'56temha'"
      ]
     },
     "execution_count": 26,
     "metadata": {},
     "output_type": "execute_result"
    }
   ],
   "source": [
    "gelenVeri[::-1] #metni tersten yazdırır"
   ]
  },
  {
   "cell_type": "markdown",
   "id": "39c0fa8c",
   "metadata": {},
   "source": [
    "## String Devam"
   ]
  },
  {
   "cell_type": "code",
   "execution_count": 28,
   "id": "b5e6af15",
   "metadata": {},
   "outputs": [],
   "source": [
    "myName = \"gaye\""
   ]
  },
  {
   "cell_type": "code",
   "execution_count": 30,
   "id": "de86e3e6",
   "metadata": {},
   "outputs": [
    {
     "data": {
      "text/plain": [
       "'Gaye'"
      ]
     },
     "execution_count": 30,
     "metadata": {},
     "output_type": "execute_result"
    }
   ],
   "source": [
    "myName.capitalize()  #capitalize stringin ilk harfini büyütür"
   ]
  },
  {
   "cell_type": "code",
   "execution_count": 31,
   "id": "8a8aa268",
   "metadata": {},
   "outputs": [],
   "source": [
    "myNameFull = \"Gaye Armut\""
   ]
  },
  {
   "cell_type": "code",
   "execution_count": 32,
   "id": "31d048d5",
   "metadata": {},
   "outputs": [
    {
     "data": {
      "text/plain": [
       "['Gaye', 'Armut']"
      ]
     },
     "execution_count": 32,
     "metadata": {},
     "output_type": "execute_result"
    }
   ],
   "source": [
    "myNameFull.split()"
   ]
  },
  {
   "cell_type": "code",
   "execution_count": 33,
   "id": "a4d1e21a",
   "metadata": {},
   "outputs": [
    {
     "data": {
      "text/plain": [
       "list"
      ]
     },
     "execution_count": 33,
     "metadata": {},
     "output_type": "execute_result"
    }
   ],
   "source": [
    "type(myNameFull.split())"
   ]
  },
  {
   "cell_type": "code",
   "execution_count": 34,
   "id": "94d9c858",
   "metadata": {},
   "outputs": [
    {
     "data": {
      "text/plain": [
       "'GAYE ARMUT'"
      ]
     },
     "execution_count": 34,
     "metadata": {},
     "output_type": "execute_result"
    }
   ],
   "source": [
    "myNameFull.upper()"
   ]
  },
  {
   "cell_type": "code",
   "execution_count": null,
   "id": "1912cbe6",
   "metadata": {},
   "outputs": [],
   "source": []
  }
 ],
 "metadata": {
  "kernelspec": {
   "display_name": "Python 3 (ipykernel)",
   "language": "python",
   "name": "python3"
  },
  "language_info": {
   "codemirror_mode": {
    "name": "ipython",
    "version": 3
   },
   "file_extension": ".py",
   "mimetype": "text/x-python",
   "name": "python",
   "nbconvert_exporter": "python",
   "pygments_lexer": "ipython3",
   "version": "3.11.4"
  }
 },
 "nbformat": 4,
 "nbformat_minor": 5
}
