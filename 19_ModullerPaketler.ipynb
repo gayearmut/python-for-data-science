{
 "cells": [
  {
   "cell_type": "code",
   "execution_count": 4,
   "id": "1aa712ed",
   "metadata": {},
   "outputs": [],
   "source": [
    "import numpy as np\n",
    "import matplotlib.pyplot as matplot\n"
   ]
  },
  {
   "cell_type": "code",
   "execution_count": 5,
   "id": "a9a8ce37",
   "metadata": {},
   "outputs": [
    {
     "data": {
      "text/plain": [
       "3993.602817251964"
      ]
     },
     "execution_count": 5,
     "metadata": {},
     "output_type": "execute_result"
    }
   ],
   "source": [
    "maasListesi = numpy.random.normal(4000,500,1000)\n",
    "numpy.mean(maasListesi)"
   ]
  },
  {
   "cell_type": "code",
   "execution_count": 7,
   "id": "a3b78ade",
   "metadata": {},
   "outputs": [
    {
     "data": {
      "image/png": "[encoded data removed]",
      "text/plain": [
       "<Figure size 640x480 with 1 Axes>"
      ]
     },
     "metadata": {},
     "output_type": "display_data"
    }
   ],
   "source": [
    "matplot.hist(maasListesi,50)\n",
    "matplot.show()"
   ]
  },
  {
   "cell_type": "markdown",
   "id": "5693b589",
   "metadata": {},
   "source": [
    "MODÜLLLER VE PAKETLER: modüller aslında tek başına python dosyalarıdır. Paketler ise daha geniş kapsamlıdır."
   ]
  },
  {
   "cell_type": "code",
   "execution_count": null,
   "id": "eef26536",
   "metadata": {},
   "outputs": [],
   "source": []
  }
 ],
 "metadata": {
  "kernelspec": {
   "display_name": "Python 3 (ipykernel)",
   "language": "python",
   "name": "python3"
  },
  "language_info": {
   "codemirror_mode": {
    "name": "ipython",
    "version": 3
   },
   "file_extension": ".py",
   "mimetype": "text/x-python",
   "name": "python",
   "nbconvert_exporter": "python",
   "pygments_lexer": "ipython3",
   "version": "3.9.17"
  }
 },
 "nbformat": 4,
 "nbformat_minor": 5
}
