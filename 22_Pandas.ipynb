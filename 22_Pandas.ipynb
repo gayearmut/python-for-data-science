{
 "cells": [
  {
   "cell_type": "code",
   "execution_count": 1,
   "id": "d53ec1c2",
   "metadata": {},
   "outputs": [],
   "source": [
    "import numpy as np\n",
    "import pandas as pd"
   ]
  },
  {
   "cell_type": "markdown",
   "id": "954e02d9",
   "metadata": {},
   "source": [
    "## Series / Seriler "
   ]
  },
  {
   "cell_type": "markdown",
   "id": "99954c44",
   "metadata": {},
   "source": [
    "Seriler numpy dizidisine çok benzeyen yapılardır fakat serilerin içinde daha rahat davranabiliyoruz.\n",
    "Index yerine verilere etiket atanabilir, anahtar kelime atanabilir.\n",
    "pandas a ver bilimin exceli denir.\n",
    "Verilerle oynayabilmek ya da onları manipüle etmek için kullanılabilir.\n"
   ]
  },
  {
   "cell_type": "code",
   "execution_count": 2,
   "id": "d87d07a7",
   "metadata": {},
   "outputs": [],
   "source": [
    "benimSozlugum = {\"Atil\":50, \"Zeynep\":40,\"Mehmet\":30}"
   ]
  },
  {
   "cell_type": "code",
   "execution_count": 3,
   "id": "d75e71e0",
   "metadata": {},
   "outputs": [
    {
     "data": {
      "text/plain": [
       "Atil      50\n",
       "Zeynep    40\n",
       "Mehmet    30\n",
       "dtype: int64"
      ]
     },
     "execution_count": 3,
     "metadata": {},
     "output_type": "execute_result"
    }
   ],
   "source": [
    "pd.Series(benimSozlugum)"
   ]
  },
  {
   "cell_type": "code",
   "execution_count": 6,
   "id": "7554a113",
   "metadata": {},
   "outputs": [],
   "source": [
    "benimYaslarim = [50,40,30]\n",
    "benimIsimlerim =[\"Atil\",\"Zeynep\",\"Mehmet\"]"
   ]
  },
  {
   "cell_type": "code",
   "execution_count": 7,
   "id": "989764bc",
   "metadata": {},
   "outputs": [
    {
     "data": {
      "text/plain": [
       "0    50\n",
       "1    40\n",
       "2    30\n",
       "dtype: int64"
      ]
     },
     "execution_count": 7,
     "metadata": {},
     "output_type": "execute_result"
    }
   ],
   "source": [
    "pd.Series(benimYaslarim)"
   ]
  },
  {
   "cell_type": "code",
   "execution_count": 8,
   "id": "431cebe7",
   "metadata": {},
   "outputs": [
    {
     "data": {
      "text/plain": [
       "Atil      50\n",
       "Zeynep    40\n",
       "Mehmet    30\n",
       "dtype: int64"
      ]
     },
     "execution_count": 8,
     "metadata": {},
     "output_type": "execute_result"
    }
   ],
   "source": [
    "pd.Series(benimYaslarim,benimIsimlerim)"
   ]
  },
  {
   "cell_type": "code",
   "execution_count": 9,
   "id": "18e46f01",
   "metadata": {},
   "outputs": [
    {
     "data": {
      "text/plain": [
       "Atil      50\n",
       "Zeynep    40\n",
       "Mehmet    30\n",
       "dtype: int64"
      ]
     },
     "execution_count": 9,
     "metadata": {},
     "output_type": "execute_result"
    }
   ],
   "source": [
    "pd.Series(data =benimYaslarim,index = benimIsimlerim)"
   ]
  },
  {
   "cell_type": "code",
   "execution_count": 10,
   "id": "ae62a34f",
   "metadata": {},
   "outputs": [],
   "source": [
    "numpyDizisi = np.array([50,40,30])"
   ]
  },
  {
   "cell_type": "code",
   "execution_count": 11,
   "id": "fa1a9b4d",
   "metadata": {},
   "outputs": [
    {
     "data": {
      "text/plain": [
       "0    50\n",
       "1    40\n",
       "2    30\n",
       "dtype: int32"
      ]
     },
     "execution_count": 11,
     "metadata": {},
     "output_type": "execute_result"
    }
   ],
   "source": [
    "pd.Series(numpyDizisi)"
   ]
  },
  {
   "cell_type": "code",
   "execution_count": 12,
   "id": "8b8256d5",
   "metadata": {},
   "outputs": [
    {
     "data": {
      "text/plain": [
       "Atil      50\n",
       "Zeynep    40\n",
       "Mehmet    30\n",
       "dtype: int32"
      ]
     },
     "execution_count": 12,
     "metadata": {},
     "output_type": "execute_result"
    }
   ],
   "source": [
    "pd.Series(numpyDizisi,benimIsimlerim)"
   ]
  },
  {
   "cell_type": "code",
   "execution_count": 13,
   "id": "cfa71e2b",
   "metadata": {},
   "outputs": [
    {
     "data": {
      "text/plain": [
       "1     Atil\n",
       "2    Atlas\n",
       "3    Osman\n",
       "dtype: object"
      ]
     },
     "execution_count": 13,
     "metadata": {},
     "output_type": "execute_result"
    }
   ],
   "source": [
    "pd.Series([\"Atil\",\"Atlas\",\"Osman\"],[1,2,3])"
   ]
  },
  {
   "cell_type": "code",
   "execution_count": 16,
   "id": "3abd6298",
   "metadata": {},
   "outputs": [],
   "source": [
    "yarismaSonucu1 = pd.Series([10,5,1],[\"Atil\",\"Atlas\",\"Osman\"])"
   ]
  },
  {
   "cell_type": "code",
   "execution_count": 17,
   "id": "b8371d99",
   "metadata": {},
   "outputs": [
    {
     "data": {
      "text/plain": [
       "Atil     10\n",
       "Atlas     5\n",
       "Osman     1\n",
       "dtype: int64"
      ]
     },
     "execution_count": 17,
     "metadata": {},
     "output_type": "execute_result"
    }
   ],
   "source": [
    "yarismaSonucu1"
   ]
  },
  {
   "cell_type": "code",
   "execution_count": 18,
   "id": "779df7bd",
   "metadata": {},
   "outputs": [],
   "source": [
    "yarismaSonucu2 = pd.Series([20,10,8],[\"Atil\",\"Atlas\",\"Osman\"])"
   ]
  },
  {
   "cell_type": "code",
   "execution_count": 19,
   "id": "db3b05e2",
   "metadata": {},
   "outputs": [
    {
     "data": {
      "text/plain": [
       "Atil     20\n",
       "Atlas    10\n",
       "Osman     8\n",
       "dtype: int64"
      ]
     },
     "execution_count": 19,
     "metadata": {},
     "output_type": "execute_result"
    }
   ],
   "source": [
    "yarismaSonucu2"
   ]
  },
  {
   "cell_type": "code",
   "execution_count": 20,
   "id": "72904478",
   "metadata": {},
   "outputs": [],
   "source": [
    "sonSonuc = yarismaSonucu1+yarismaSonucu2"
   ]
  },
  {
   "cell_type": "code",
   "execution_count": 21,
   "id": "950e3bb1",
   "metadata": {},
   "outputs": [
    {
     "data": {
      "text/plain": [
       "Atil     30\n",
       "Atlas    15\n",
       "Osman     9\n",
       "dtype: int64"
      ]
     },
     "execution_count": 21,
     "metadata": {},
     "output_type": "execute_result"
    }
   ],
   "source": [
    "sonSonuc"
   ]
  },
  {
   "cell_type": "code",
   "execution_count": 22,
   "id": "d65e65e4",
   "metadata": {},
   "outputs": [],
   "source": [
    "farkliSeries1 = pd.Series([20,30,40,50],[\"a\",\"b\",\"c\",\"d\"])"
   ]
  },
  {
   "cell_type": "code",
   "execution_count": 23,
   "id": "5dd83a63",
   "metadata": {},
   "outputs": [],
   "source": [
    "farkliSeries2 = pd.Series([10,5,3,1],[\"a\",\"c\",\"f\",\"g\"])"
   ]
  },
  {
   "cell_type": "code",
   "execution_count": 25,
   "id": "5de9e083",
   "metadata": {},
   "outputs": [
    {
     "data": {
      "text/plain": [
       "a    20\n",
       "b    30\n",
       "c    40\n",
       "d    50\n",
       "dtype: int64"
      ]
     },
     "execution_count": 25,
     "metadata": {},
     "output_type": "execute_result"
    }
   ],
   "source": [
    "farkliSeries1"
   ]
  },
  {
   "cell_type": "code",
   "execution_count": 26,
   "id": "f0b05bba",
   "metadata": {},
   "outputs": [
    {
     "data": {
      "text/plain": [
       "a    10\n",
       "c     5\n",
       "f     3\n",
       "g     1\n",
       "dtype: int64"
      ]
     },
     "execution_count": 26,
     "metadata": {},
     "output_type": "execute_result"
    }
   ],
   "source": [
    "farkliSeries2"
   ]
  },
  {
   "cell_type": "code",
   "execution_count": 27,
   "id": "d72080e2",
   "metadata": {},
   "outputs": [
    {
     "data": {
      "text/plain": [
       "a    30.0\n",
       "b     NaN\n",
       "c    45.0\n",
       "d     NaN\n",
       "f     NaN\n",
       "g     NaN\n",
       "dtype: float64"
      ]
     },
     "execution_count": 27,
     "metadata": {},
     "output_type": "execute_result"
    }
   ],
   "source": [
    "farkliSeries1+farkliSeries2"
   ]
  },
  {
   "cell_type": "code",
   "execution_count": null,
   "id": "2857f32f",
   "metadata": {},
   "outputs": [],
   "source": []
  }
 ],
 "metadata": {
  "kernelspec": {
   "display_name": "Python 3 (ipykernel)",
   "language": "python",
   "name": "python3"
  },
  "language_info": {
   "codemirror_mode": {
    "name": "ipython",
    "version": 3
   },
   "file_extension": ".py",
   "mimetype": "text/x-python",
   "name": "python",
   "nbconvert_exporter": "python",
   "pygments_lexer": "ipython3",
   "version": "3.9.17"
  }
 },
 "nbformat": 4,
 "nbformat_minor": 5
}
