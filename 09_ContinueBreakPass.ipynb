{
 "cells": [
  {
   "cell_type": "code",
   "execution_count": 1,
   "id": "624de080",
   "metadata": {},
   "outputs": [],
   "source": [
    "benimListem = [10,20,30,40,50]"
   ]
  },
  {
   "cell_type": "code",
   "execution_count": 2,
   "id": "38641e8e",
   "metadata": {},
   "outputs": [
    {
     "name": "stdout",
     "output_type": "stream",
     "text": [
      "10\n",
      "20\n"
     ]
    }
   ],
   "source": [
    "for num in benimListem:\n",
    "    if num == 30:\n",
    "        break\n",
    "    print(num)\n",
    "    "
   ]
  },
  {
   "cell_type": "code",
   "execution_count": 3,
   "id": "3ac6234e",
   "metadata": {},
   "outputs": [
    {
     "name": "stdout",
     "output_type": "stream",
     "text": [
      "10\n",
      "20\n",
      "40\n",
      "50\n"
     ]
    }
   ],
   "source": [
    "for num in benimListem:\n",
    "    if num == 30:\n",
    "        continue\n",
    "    print(num)   "
   ]
  },
  {
   "cell_type": "markdown",
   "id": "a48c6c0f",
   "metadata": {},
   "source": [
    "burda 30 haric diğer değerler yazdırılır"
   ]
  },
  {
   "cell_type": "code",
   "execution_count": 5,
   "id": "06d58317",
   "metadata": {},
   "outputs": [],
   "source": [
    "for num in benimListem:\n",
    "    pass   #pass ya burda işlem yapılmayacaksa ya da o an için yazılmayacaksa kullanılır. Kodeun kalanı pass olmadan yazılırsa hata alınır"
   ]
  },
  {
   "cell_type": "code",
   "execution_count": null,
   "id": "c7ad8a6b",
   "metadata": {},
   "outputs": [],
   "source": []
  }
 ],
 "metadata": {
  "kernelspec": {
   "display_name": "Python 3 (ipykernel)",
   "language": "python",
   "name": "python3"
  },
  "language_info": {
   "codemirror_mode": {
    "name": "ipython",
    "version": 3
   },
   "file_extension": ".py",
   "mimetype": "text/x-python",
   "name": "python",
   "nbconvert_exporter": "python",
   "pygments_lexer": "ipython3",
   "version": "3.9.17"
  }
 },
 "nbformat": 4,
 "nbformat_minor": 5
}
