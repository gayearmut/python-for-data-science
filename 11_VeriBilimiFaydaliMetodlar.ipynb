{
 "cells": [
  {
   "cell_type": "markdown",
   "id": "f1b783c8",
   "metadata": {},
   "source": [
    "## Range\n"
   ]
  },
  {
   "cell_type": "markdown",
   "id": "c98b63b5",
   "metadata": {},
   "source": [
    "range(); eğer bir komut yazdığında shit ve tab tuşuna basarsan kod ile ilgili dökümantasyon varsa gösterir."
   ]
  },
  {
   "cell_type": "code",
   "execution_count": 1,
   "id": "28068a7b",
   "metadata": {},
   "outputs": [
    {
     "data": {
      "text/plain": [
       "range(0, 15)"
      ]
     },
     "execution_count": 1,
     "metadata": {},
     "output_type": "execute_result"
    }
   ],
   "source": [
    "range(15)"
   ]
  },
  {
   "cell_type": "code",
   "execution_count": 2,
   "id": "2438625f",
   "metadata": {},
   "outputs": [
    {
     "data": {
      "text/plain": [
       "[0, 1, 2, 3, 4, 5, 6, 7, 8, 9, 10, 11, 12, 13, 14]"
      ]
     },
     "execution_count": 2,
     "metadata": {},
     "output_type": "execute_result"
    }
   ],
   "source": [
    "list(range(15))"
   ]
  },
  {
   "cell_type": "code",
   "execution_count": 3,
   "id": "82159623",
   "metadata": {},
   "outputs": [
    {
     "name": "stdout",
     "output_type": "stream",
     "text": [
      "0\n",
      "5\n",
      "10\n",
      "15\n",
      "20\n",
      "25\n",
      "30\n",
      "35\n",
      "40\n",
      "45\n",
      "50\n",
      "55\n",
      "60\n",
      "65\n",
      "70\n"
     ]
    }
   ],
   "source": [
    "for num in list(range(15)):\n",
    "    print(num*5)"
   ]
  },
  {
   "cell_type": "code",
   "execution_count": 4,
   "id": "bc3a83b9",
   "metadata": {},
   "outputs": [
    {
     "data": {
      "text/plain": [
       "[5, 8, 11, 14, 17, 20, 23, 26, 29]"
      ]
     },
     "execution_count": 4,
     "metadata": {},
     "output_type": "execute_result"
    }
   ],
   "source": [
    "list(range(5,30,3))"
   ]
  },
  {
   "cell_type": "markdown",
   "id": "1decd7ff",
   "metadata": {},
   "source": [
    "## enumerate"
   ]
  },
  {
   "cell_type": "code",
   "execution_count": 5,
   "id": "501d3843",
   "metadata": {},
   "outputs": [
    {
     "name": "stdout",
     "output_type": "stream",
     "text": [
      "güncel numara: 5 güncel index: 0\n",
      "güncel numara: 6 güncel index: 1\n",
      "güncel numara: 7 güncel index: 2\n",
      "güncel numara: 8 güncel index: 3\n",
      "güncel numara: 9 güncel index: 4\n",
      "güncel numara: 10 güncel index: 5\n",
      "güncel numara: 11 güncel index: 6\n",
      "güncel numara: 12 güncel index: 7\n",
      "güncel numara: 13 güncel index: 8\n",
      "güncel numara: 14 güncel index: 9\n"
     ]
    }
   ],
   "source": [
    "index =0\n",
    "for num in list(range(5,15)):\n",
    "    print(f\"güncel numara: {num} güncel index: {index}\")\n",
    "    index = index +1 "
   ]
  },
  {
   "cell_type": "code",
   "execution_count": 6,
   "id": "29f00829",
   "metadata": {},
   "outputs": [
    {
     "name": "stdout",
     "output_type": "stream",
     "text": [
      "(0, 5)\n",
      "(1, 6)\n",
      "(2, 7)\n",
      "(3, 8)\n",
      "(4, 9)\n",
      "(5, 10)\n",
      "(6, 11)\n",
      "(7, 12)\n",
      "(8, 13)\n",
      "(9, 14)\n"
     ]
    }
   ],
   "source": [
    "for eleman in enumerate(list(range(5,15))):\n",
    "    print(eleman)"
   ]
  },
  {
   "cell_type": "code",
   "execution_count": 10,
   "id": "95b7bc5d",
   "metadata": {},
   "outputs": [
    {
     "name": "stdout",
     "output_type": "stream",
     "text": [
      "0 5\n",
      "1 6\n",
      "2 7\n",
      "3 8\n",
      "4 9\n",
      "5 10\n",
      "6 11\n",
      "7 12\n",
      "8 13\n",
      "9 14\n"
     ]
    }
   ],
   "source": [
    "for (index,numara) in enumerate(list(range(5,15))):\n",
    "    print(index,numara)"
   ]
  },
  {
   "cell_type": "markdown",
   "id": "7d32c017",
   "metadata": {},
   "source": [
    "## Random"
   ]
  },
  {
   "cell_type": "code",
   "execution_count": 11,
   "id": "89427fd8",
   "metadata": {},
   "outputs": [],
   "source": [
    "from random import randint  #randint int içinde random sayı dönderir."
   ]
  },
  {
   "cell_type": "code",
   "execution_count": 12,
   "id": "74f1e563",
   "metadata": {},
   "outputs": [
    {
     "data": {
      "text/plain": [
       "50"
      ]
     },
     "execution_count": 12,
     "metadata": {},
     "output_type": "execute_result"
    }
   ],
   "source": [
    "randint(0,100)"
   ]
  },
  {
   "cell_type": "code",
   "execution_count": 13,
   "id": "107f4696",
   "metadata": {},
   "outputs": [],
   "source": [
    "yeniListe = list(range(0,10))"
   ]
  },
  {
   "cell_type": "code",
   "execution_count": 14,
   "id": "e463d100",
   "metadata": {},
   "outputs": [
    {
     "data": {
      "text/plain": [
       "[0, 1, 2, 3, 4, 5, 6, 7, 8, 9]"
      ]
     },
     "execution_count": 14,
     "metadata": {},
     "output_type": "execute_result"
    }
   ],
   "source": [
    "yeniListe"
   ]
  },
  {
   "cell_type": "code",
   "execution_count": 15,
   "id": "01b4f553",
   "metadata": {},
   "outputs": [
    {
     "data": {
      "text/plain": [
       "4"
      ]
     },
     "execution_count": 15,
     "metadata": {},
     "output_type": "execute_result"
    }
   ],
   "source": [
    "yeniListe[randint(0,9)]"
   ]
  },
  {
   "cell_type": "code",
   "execution_count": 16,
   "id": "97124fbf",
   "metadata": {},
   "outputs": [],
   "source": [
    "from random import shuffle  #shuffle karıştırmak"
   ]
  },
  {
   "cell_type": "code",
   "execution_count": 17,
   "id": "71d750d9",
   "metadata": {},
   "outputs": [],
   "source": [
    "shuffle(yeniListe)"
   ]
  },
  {
   "cell_type": "code",
   "execution_count": 18,
   "id": "562de874",
   "metadata": {},
   "outputs": [
    {
     "data": {
      "text/plain": [
       "[3, 5, 6, 7, 2, 9, 1, 4, 8, 0]"
      ]
     },
     "execution_count": 18,
     "metadata": {},
     "output_type": "execute_result"
    }
   ],
   "source": [
    "yeniListe"
   ]
  },
  {
   "cell_type": "markdown",
   "id": "4fbb5efd",
   "metadata": {},
   "source": [
    "## zip"
   ]
  },
  {
   "cell_type": "markdown",
   "id": "1bb27fe4",
   "metadata": {},
   "source": [
    "birden fazla listeyi birbirine bağlamak için kullanılır."
   ]
  },
  {
   "cell_type": "code",
   "execution_count": 20,
   "id": "7efb576b",
   "metadata": {},
   "outputs": [],
   "source": [
    "yemekListesi = [\"muz\",\"ananas\",\"elma\"]\n",
    "kaloriListesi =[100,200,300]\n",
    "gunListesi = [\"pazartesi\",\"salı\",\"çarşamba\"]"
   ]
  },
  {
   "cell_type": "code",
   "execution_count": 21,
   "id": "18692620",
   "metadata": {},
   "outputs": [],
   "source": [
    "ziplenmisListe=list(zip(yemekListesi,kaloriListesi,gunListesi))"
   ]
  },
  {
   "cell_type": "code",
   "execution_count": 22,
   "id": "9ef30c47",
   "metadata": {},
   "outputs": [
    {
     "name": "stdout",
     "output_type": "stream",
     "text": [
      "<class 'tuple'>\n",
      "<class 'tuple'>\n",
      "<class 'tuple'>\n"
     ]
    }
   ],
   "source": [
    "for eleman in ziplenmisListe:\n",
    "    print(type(eleman))"
   ]
  },
  {
   "cell_type": "code",
   "execution_count": 23,
   "id": "d5322136",
   "metadata": {},
   "outputs": [
    {
     "data": {
      "text/plain": [
       "[('muz', 100, 'pazartesi'), ('ananas', 200, 'salı'), ('elma', 300, 'çarşamba')]"
      ]
     },
     "execution_count": 23,
     "metadata": {},
     "output_type": "execute_result"
    }
   ],
   "source": [
    "ziplenmisListe"
   ]
  },
  {
   "cell_type": "markdown",
   "id": "d1a09e35",
   "metadata": {},
   "source": [
    "## Listeler ileri Seviye"
   ]
  },
  {
   "cell_type": "code",
   "execution_count": 32,
   "id": "e54225f6",
   "metadata": {},
   "outputs": [],
   "source": [
    "listeOrn = []\n",
    "benimString = \"gaye armut\"\n",
    "\n",
    "for harf in benimString:\n",
    "    listeOrn.append(harf)"
   ]
  },
  {
   "cell_type": "code",
   "execution_count": 33,
   "id": "28f79082",
   "metadata": {},
   "outputs": [
    {
     "data": {
      "text/plain": [
       "['g', 'a', 'y', 'e', ' ', 'a', 'r', 'm', 'u', 't']"
      ]
     },
     "execution_count": 33,
     "metadata": {},
     "output_type": "execute_result"
    }
   ],
   "source": [
    "listeOrn"
   ]
  },
  {
   "cell_type": "code",
   "execution_count": 34,
   "id": "4c060a5c",
   "metadata": {},
   "outputs": [],
   "source": [
    "yeniString =  \"gaye armut\""
   ]
  },
  {
   "cell_type": "code",
   "execution_count": 35,
   "id": "78ec3963",
   "metadata": {},
   "outputs": [],
   "source": [
    "yeniListeOrn = [eleman for eleman in yeniString]"
   ]
  },
  {
   "cell_type": "code",
   "execution_count": 36,
   "id": "18210f7b",
   "metadata": {},
   "outputs": [
    {
     "data": {
      "text/plain": [
       "['g', 'a', 'y', 'e', ' ', 'a', 'r', 'm', 'u', 't']"
      ]
     },
     "execution_count": 36,
     "metadata": {},
     "output_type": "execute_result"
    }
   ],
   "source": [
    "yeniListeOrn"
   ]
  },
  {
   "cell_type": "code",
   "execution_count": 37,
   "id": "bb1917b4",
   "metadata": {},
   "outputs": [],
   "source": [
    "ikinciListeOrn = [numara * 5  for numara in list(range(0,10))]"
   ]
  },
  {
   "cell_type": "code",
   "execution_count": 38,
   "id": "603f7b8b",
   "metadata": {},
   "outputs": [
    {
     "data": {
      "text/plain": [
       "[0, 5, 10, 15, 20, 25, 30, 35, 40, 45]"
      ]
     },
     "execution_count": 38,
     "metadata": {},
     "output_type": "execute_result"
    }
   ],
   "source": [
    "ikinciListeOrn"
   ]
  },
  {
   "cell_type": "code",
   "execution_count": null,
   "id": "af193b1d",
   "metadata": {},
   "outputs": [],
   "source": []
  }
 ],
 "metadata": {
  "kernelspec": {
   "display_name": "Python 3 (ipykernel)",
   "language": "python",
   "name": "python3"
  },
  "language_info": {
   "codemirror_mode": {
    "name": "ipython",
    "version": 3
   },
   "file_extension": ".py",
   "mimetype": "text/x-python",
   "name": "python",
   "nbconvert_exporter": "python",
   "pygments_lexer": "ipython3",
   "version": "3.9.17"
  }
 },
 "nbformat": 4,
 "nbformat_minor": 5
}
