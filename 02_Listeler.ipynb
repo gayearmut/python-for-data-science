{
 "cells": [
  {
   "cell_type": "markdown",
   "id": "231fa48c",
   "metadata": {},
   "source": [
    "## Listeler"
   ]
  },
  {
   "cell_type": "code",
   "execution_count": 1,
   "id": "ac4b097d",
   "metadata": {},
   "outputs": [],
   "source": [
    "myString = \"Gaye Armut\""
   ]
  },
  {
   "cell_type": "code",
   "execution_count": 2,
   "id": "c636a5d1",
   "metadata": {},
   "outputs": [],
   "source": [
    "#immutability  mutable"
   ]
  },
  {
   "cell_type": "code",
   "execution_count": 3,
   "id": "1cba45fd",
   "metadata": {},
   "outputs": [],
   "source": [
    "#myString[0] = \"B\"  bu şekilde stringlerde değişim olmaz"
   ]
  },
  {
   "cell_type": "code",
   "execution_count": 4,
   "id": "c694d2be",
   "metadata": {},
   "outputs": [],
   "source": [
    "myList = [10,20,30,40]"
   ]
  },
  {
   "cell_type": "code",
   "execution_count": 5,
   "id": "54024426",
   "metadata": {},
   "outputs": [
    {
     "data": {
      "text/plain": [
       "list"
      ]
     },
     "execution_count": 5,
     "metadata": {},
     "output_type": "execute_result"
    }
   ],
   "source": [
    "type(myList)"
   ]
  },
  {
   "cell_type": "code",
   "execution_count": 6,
   "id": "67b2a770",
   "metadata": {},
   "outputs": [],
   "source": [
    "myList[0] = 500"
   ]
  },
  {
   "cell_type": "code",
   "execution_count": 7,
   "id": "14c91bd2",
   "metadata": {},
   "outputs": [
    {
     "data": {
      "text/plain": [
       "[500, 20, 30, 40]"
      ]
     },
     "execution_count": 7,
     "metadata": {},
     "output_type": "execute_result"
    }
   ],
   "source": [
    "myList"
   ]
  },
  {
   "cell_type": "code",
   "execution_count": 8,
   "id": "ce38a600",
   "metadata": {},
   "outputs": [],
   "source": [
    "myList.append(50)"
   ]
  },
  {
   "cell_type": "code",
   "execution_count": 9,
   "id": "6c2d2049",
   "metadata": {},
   "outputs": [
    {
     "data": {
      "text/plain": [
       "[500, 20, 30, 40, 50]"
      ]
     },
     "execution_count": 9,
     "metadata": {},
     "output_type": "execute_result"
    }
   ],
   "source": [
    "myList"
   ]
  },
  {
   "cell_type": "code",
   "execution_count": 10,
   "id": "21674c0f",
   "metadata": {},
   "outputs": [
    {
     "data": {
      "text/plain": [
       "50"
      ]
     },
     "execution_count": 10,
     "metadata": {},
     "output_type": "execute_result"
    }
   ],
   "source": [
    "myList.pop()  #bir liste içinden belirtilen indeksteki elemanı çıkarır ve o elemanı döndürür."
   ]
  },
  {
   "cell_type": "code",
   "execution_count": 11,
   "id": "4063f908",
   "metadata": {},
   "outputs": [
    {
     "data": {
      "text/plain": [
       "[500, 20, 30, 40]"
      ]
     },
     "execution_count": 11,
     "metadata": {},
     "output_type": "execute_result"
    }
   ],
   "source": [
    "myList"
   ]
  },
  {
   "cell_type": "code",
   "execution_count": 13,
   "id": "a0843cdf",
   "metadata": {},
   "outputs": [],
   "source": [
    "myList.remove(20)"
   ]
  },
  {
   "cell_type": "code",
   "execution_count": 14,
   "id": "9f0b4b46",
   "metadata": {},
   "outputs": [
    {
     "data": {
      "text/plain": [
       "[500, 30, 40]"
      ]
     },
     "execution_count": 14,
     "metadata": {},
     "output_type": "execute_result"
    }
   ],
   "source": [
    "myList"
   ]
  },
  {
   "cell_type": "code",
   "execution_count": 15,
   "id": "ce8e250d",
   "metadata": {},
   "outputs": [
    {
     "data": {
      "text/plain": [
       "0"
      ]
     },
     "execution_count": 15,
     "metadata": {},
     "output_type": "execute_result"
    }
   ],
   "source": [
    "myList.count(20)"
   ]
  },
  {
   "cell_type": "code",
   "execution_count": 16,
   "id": "34c10a00",
   "metadata": {},
   "outputs": [
    {
     "data": {
      "text/plain": [
       "1"
      ]
     },
     "execution_count": 16,
     "metadata": {},
     "output_type": "execute_result"
    }
   ],
   "source": [
    "myList.count(40)"
   ]
  },
  {
   "cell_type": "code",
   "execution_count": 17,
   "id": "fb07039e",
   "metadata": {},
   "outputs": [],
   "source": [
    "myStringList = [\"gaye\",\"zeynep\",\"hasan\"]"
   ]
  },
  {
   "cell_type": "code",
   "execution_count": 18,
   "id": "eff0dd52",
   "metadata": {},
   "outputs": [],
   "source": [
    "myStringList.reverse()"
   ]
  },
  {
   "cell_type": "code",
   "execution_count": 19,
   "id": "2e931540",
   "metadata": {},
   "outputs": [
    {
     "data": {
      "text/plain": [
       "['hasan', 'zeynep', 'gaye']"
      ]
     },
     "execution_count": 19,
     "metadata": {},
     "output_type": "execute_result"
    }
   ],
   "source": [
    "myStringList"
   ]
  },
  {
   "cell_type": "code",
   "execution_count": 20,
   "id": "076ee9af",
   "metadata": {},
   "outputs": [
    {
     "data": {
      "text/plain": [
       "['hasan', 'zeynep', 'gaye']"
      ]
     },
     "execution_count": 20,
     "metadata": {},
     "output_type": "execute_result"
    }
   ],
   "source": [
    "myStringList"
   ]
  },
  {
   "cell_type": "code",
   "execution_count": 1,
   "id": "25301747",
   "metadata": {},
   "outputs": [],
   "source": [
    "karisikListe = [1,2,3,4,\"gaye\"]"
   ]
  },
  {
   "cell_type": "code",
   "execution_count": 2,
   "id": "f167dc11",
   "metadata": {},
   "outputs": [],
   "source": [
    "nestedList = [1,5,\"gaye\",4,[6,\"z\"]]"
   ]
  },
  {
   "cell_type": "code",
   "execution_count": 3,
   "id": "f59ef5b1",
   "metadata": {},
   "outputs": [],
   "source": [
    "gorev = nestedList.pop()"
   ]
  },
  {
   "cell_type": "code",
   "execution_count": 4,
   "id": "abbd20ff",
   "metadata": {},
   "outputs": [
    {
     "data": {
      "text/plain": [
       "[6, 'z']"
      ]
     },
     "execution_count": 4,
     "metadata": {},
     "output_type": "execute_result"
    }
   ],
   "source": [
    "gorev"
   ]
  },
  {
   "cell_type": "code",
   "execution_count": 27,
   "id": "c62a3a41",
   "metadata": {},
   "outputs": [
    {
     "data": {
      "text/plain": [
       "'z'"
      ]
     },
     "execution_count": 27,
     "metadata": {},
     "output_type": "execute_result"
    }
   ],
   "source": [
    "gorev[-1]"
   ]
  },
  {
   "cell_type": "code",
   "execution_count": 39,
   "id": "2b262da3",
   "metadata": {},
   "outputs": [],
   "source": [
    "zDegisken = nestedList[4][1]  #tek satırda yapma"
   ]
  },
  {
   "cell_type": "code",
   "execution_count": 38,
   "id": "7290aa20",
   "metadata": {},
   "outputs": [
    {
     "data": {
      "text/plain": [
       "'z'"
      ]
     },
     "execution_count": 38,
     "metadata": {},
     "output_type": "execute_result"
    }
   ],
   "source": [
    "zDegisken"
   ]
  },
  {
   "cell_type": "code",
   "execution_count": 40,
   "id": "ce500f68",
   "metadata": {},
   "outputs": [
    {
     "data": {
      "text/plain": [
       "[1, 5]"
      ]
     },
     "execution_count": 40,
     "metadata": {},
     "output_type": "execute_result"
    }
   ],
   "source": [
    "nestedList[:2] #ikinci indekse kadar"
   ]
  },
  {
   "cell_type": "code",
   "execution_count": 41,
   "id": "b3a6abfe",
   "metadata": {},
   "outputs": [
    {
     "data": {
      "text/plain": [
       "['gaye', 4, [6, 'z']]"
      ]
     },
     "execution_count": 41,
     "metadata": {},
     "output_type": "execute_result"
    }
   ],
   "source": [
    "nestedList[2:] #ikinci indeksten itibaren"
   ]
  },
  {
   "cell_type": "code",
   "execution_count": null,
   "id": "2f192b47",
   "metadata": {},
   "outputs": [],
   "source": []
  }
 ],
 "metadata": {
  "kernelspec": {
   "display_name": "Python 3 (ipykernel)",
   "language": "python",
   "name": "python3"
  },
  "language_info": {
   "codemirror_mode": {
    "name": "ipython",
    "version": 3
   },
   "file_extension": ".py",
   "mimetype": "text/x-python",
   "name": "python",
   "nbconvert_exporter": "python",
   "pygments_lexer": "ipython3",
   "version": "3.11.4"
  }
 },
 "nbformat": 4,
 "nbformat_minor": 5
}
