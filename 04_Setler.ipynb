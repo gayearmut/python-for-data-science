{
 "cells": [
  {
   "cell_type": "markdown",
   "id": "0354dc2b",
   "metadata": {},
   "source": [
    "## Setler\n",
    "Setler de yine collection yapısı ve listelere benzer yapısı var ancak listeler içerisinde aynı elemanlar barınabilirken setler içerisinde bir elemandan yalnızca bir tane bulunabilir"
   ]
  },
  {
   "cell_type": "code",
   "execution_count": 12,
   "id": "820c17d7",
   "metadata": {},
   "outputs": [],
   "source": [
    "benimListem = [1,2,3,1,2,3]"
   ]
  },
  {
   "cell_type": "markdown",
   "id": "ed4b854d",
   "metadata": {},
   "source": [
    "bir veri tipini ya da collection tipini başka bir şeye  çevirme işlemi : Casting"
   ]
  },
  {
   "cell_type": "code",
   "execution_count": 13,
   "id": "e7435b9d",
   "metadata": {},
   "outputs": [],
   "source": [
    "benimListeSetim = set(benimListem)"
   ]
  },
  {
   "cell_type": "code",
   "execution_count": 14,
   "id": "6953761b",
   "metadata": {},
   "outputs": [
    {
     "data": {
      "text/plain": [
       "set"
      ]
     },
     "execution_count": 14,
     "metadata": {},
     "output_type": "execute_result"
    }
   ],
   "source": [
    "type(benimListeSetim)"
   ]
  },
  {
   "cell_type": "code",
   "execution_count": 15,
   "id": "2fbe3574",
   "metadata": {},
   "outputs": [
    {
     "data": {
      "text/plain": [
       "{1, 2, 3}"
      ]
     },
     "execution_count": 15,
     "metadata": {},
     "output_type": "execute_result"
    }
   ],
   "source": [
    "benimListeSetim"
   ]
  },
  {
   "cell_type": "code",
   "execution_count": 19,
   "id": "8b099653",
   "metadata": {},
   "outputs": [],
   "source": [
    "benimSet= {\"a\",\"b\",\"c\",\"a\"}"
   ]
  },
  {
   "cell_type": "code",
   "execution_count": 20,
   "id": "3283eb7b",
   "metadata": {},
   "outputs": [
    {
     "data": {
      "text/plain": [
       "{'a', 'b', 'c'}"
      ]
     },
     "execution_count": 20,
     "metadata": {},
     "output_type": "execute_result"
    }
   ],
   "source": [
    "benimSet"
   ]
  },
  {
   "cell_type": "code",
   "execution_count": 21,
   "id": "bfb7c1bb",
   "metadata": {},
   "outputs": [],
   "source": [
    "benimBosSetim = set()"
   ]
  },
  {
   "cell_type": "code",
   "execution_count": 22,
   "id": "2a874aa6",
   "metadata": {},
   "outputs": [
    {
     "data": {
      "text/plain": [
       "set()"
      ]
     },
     "execution_count": 22,
     "metadata": {},
     "output_type": "execute_result"
    }
   ],
   "source": [
    "benimBosSetim"
   ]
  },
  {
   "cell_type": "code",
   "execution_count": null,
   "id": "6809a5c5",
   "metadata": {},
   "outputs": [],
   "source": []
  }
 ],
 "metadata": {
  "kernelspec": {
   "display_name": "Python 3 (ipykernel)",
   "language": "python",
   "name": "python3"
  },
  "language_info": {
   "codemirror_mode": {
    "name": "ipython",
    "version": 3
   },
   "file_extension": ".py",
   "mimetype": "text/x-python",
   "name": "python",
   "nbconvert_exporter": "python",
   "pygments_lexer": "ipython3",
   "version": "3.11.4"
  }
 },
 "nbformat": 4,
 "nbformat_minor": 5
}
