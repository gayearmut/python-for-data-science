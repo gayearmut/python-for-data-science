{
 "cells": [
  {
   "cell_type": "markdown",
   "id": "80ebe3c5",
   "metadata": {},
   "source": [
    "## If -elif - else"
   ]
  },
  {
   "cell_type": "code",
   "execution_count": 1,
   "id": "638a3b92",
   "metadata": {},
   "outputs": [
    {
     "name": "stdout",
     "output_type": "stream",
     "text": [
      "gaye\n"
     ]
    }
   ],
   "source": [
    "if 3 >1 :\n",
    "    print(\"gaye\")"
   ]
  },
  {
   "cell_type": "code",
   "execution_count": 2,
   "id": "8a7856ce",
   "metadata": {},
   "outputs": [
    {
     "name": "stdout",
     "output_type": "stream",
     "text": [
      "if koşulunun dışına çıktık\n"
     ]
    }
   ],
   "source": [
    "if 3 > 4 :\n",
    "    print(\"gaye\")\n",
    "print(\"if koşulunun dışına çıktık\")    "
   ]
  },
  {
   "cell_type": "code",
   "execution_count": 3,
   "id": "1de79a0d",
   "metadata": {},
   "outputs": [],
   "source": [
    "x = 3    "
   ]
  },
  {
   "cell_type": "code",
   "execution_count": 4,
   "id": "1527cb52",
   "metadata": {},
   "outputs": [],
   "source": [
    "y = 4"
   ]
  },
  {
   "cell_type": "code",
   "execution_count": 7,
   "id": "0610e92b",
   "metadata": {},
   "outputs": [
    {
     "name": "stdout",
     "output_type": "stream",
     "text": [
      "y, x den daha büyük\n"
     ]
    }
   ],
   "source": [
    "if x > y :\n",
    "    print(\"x, y den daha büyük\")\n",
    "elif y > x:\n",
    "    print(\"y, x den daha büyük\")\n",
    "elif x == y :\n",
    "    print(\"x ve y eşit\")"
   ]
  },
  {
   "cell_type": "markdown",
   "id": "df58758e",
   "metadata": {},
   "source": [
    "sondaki elif yerine else de yazılabilir."
   ]
  },
  {
   "cell_type": "code",
   "execution_count": 8,
   "id": "3a7099d5",
   "metadata": {},
   "outputs": [
    {
     "name": "stdout",
     "output_type": "stream",
     "text": [
      "super kahraman seçiniz: Batman\n"
     ]
    }
   ],
   "source": [
    "benimKahramanım = input(\"super kahraman seçiniz: \")"
   ]
  },
  {
   "cell_type": "code",
   "execution_count": 10,
   "id": "3ded24b8",
   "metadata": {},
   "outputs": [
    {
     "name": "stdout",
     "output_type": "stream",
     "text": [
      "Batman i seçtiniz\n"
     ]
    }
   ],
   "source": [
    "if benimKahramanım == \"Batman\":\n",
    "    print(\"Batman i seçtiniz\")\n",
    "elif benimKahramanım == \"Superman\":\n",
    "     print(\"Keşke Batman seçseydiniz\")\n",
    "else:\n",
    "    print(\"Bilinmeyen birini seçtiniz\")"
   ]
  },
  {
   "cell_type": "code",
   "execution_count": 11,
   "id": "0b6944b5",
   "metadata": {},
   "outputs": [],
   "source": [
    "karakterCanli =True"
   ]
  },
  {
   "cell_type": "code",
   "execution_count": 12,
   "id": "34462331",
   "metadata": {},
   "outputs": [
    {
     "name": "stdout",
     "output_type": "stream",
     "text": [
      "oyun karakteriniz canlı\n"
     ]
    }
   ],
   "source": [
    "if karakterCanli:\n",
    "    print(\"oyun karakteriniz canlı\")\n",
    "else:\n",
    "    print(\"oyun karakteriniz yaşamıyor\")"
   ]
  },
  {
   "cell_type": "code",
   "execution_count": 18,
   "id": "210d3173",
   "metadata": {},
   "outputs": [],
   "source": [
    "benimString = \"gaye armut\""
   ]
  },
  {
   "cell_type": "code",
   "execution_count": 19,
   "id": "3beb2481",
   "metadata": {},
   "outputs": [
    {
     "name": "stdout",
     "output_type": "stream",
     "text": [
      "varmış\n"
     ]
    }
   ],
   "source": [
    "if \"gaye\" in benimString:\n",
    "    print(\"varmış\")\n",
    "else: \n",
    "    print(\"yokmuş\")"
   ]
  },
  {
   "cell_type": "code",
   "execution_count": 20,
   "id": "d3ee64a7",
   "metadata": {},
   "outputs": [],
   "source": [
    "benimSozluk = {\"Elma\":100, \"Karpuz\":200, \"Muz\":300}"
   ]
  },
  {
   "cell_type": "code",
   "execution_count": 21,
   "id": "b0a6070c",
   "metadata": {},
   "outputs": [
    {
     "name": "stdout",
     "output_type": "stream",
     "text": [
      "var\n"
     ]
    }
   ],
   "source": [
    "if \"Muz\" in benimSozluk.keys():\n",
    "    print(\"var\")"
   ]
  },
  {
   "cell_type": "code",
   "execution_count": 22,
   "id": "39594f52",
   "metadata": {},
   "outputs": [
    {
     "name": "stdout",
     "output_type": "stream",
     "text": [
      "yok\n"
     ]
    }
   ],
   "source": [
    "if 500 in benimSozluk.keys():\n",
    "    print(\"var\")\n",
    "else:\n",
    "    print(\"yok\")"
   ]
  },
  {
   "cell_type": "code",
   "execution_count": null,
   "id": "d790afaf",
   "metadata": {},
   "outputs": [],
   "source": []
  }
 ],
 "metadata": {
  "kernelspec": {
   "display_name": "Python 3 (ipykernel)",
   "language": "python",
   "name": "python3"
  },
  "language_info": {
   "codemirror_mode": {
    "name": "ipython",
    "version": 3
   },
   "file_extension": ".py",
   "mimetype": "text/x-python",
   "name": "python",
   "nbconvert_exporter": "python",
   "pygments_lexer": "ipython3",
   "version": "3.11.4"
  }
 },
 "nbformat": 4,
 "nbformat_minor": 5
}
