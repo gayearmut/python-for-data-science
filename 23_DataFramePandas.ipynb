{
 "cells": [
  {
   "cell_type": "code",
   "execution_count": 1,
   "id": "f22519ce",
   "metadata": {},
   "outputs": [],
   "source": [
    "import pandas as pd\n",
    "import numpy as np"
   ]
  },
  {
   "cell_type": "code",
   "execution_count": 3,
   "id": "5bd5f2a0",
   "metadata": {},
   "outputs": [],
   "source": [
    "data = np.random.randn(4,3)"
   ]
  },
  {
   "cell_type": "code",
   "execution_count": 4,
   "id": "426897b0",
   "metadata": {},
   "outputs": [
    {
     "data": {
      "text/plain": [
       "array([[-1.15426264, -0.44634515, -0.5883472 ],\n",
       "       [ 1.67685006, -0.81288757,  0.4929271 ],\n",
       "       [ 0.32725834,  0.12749891,  0.89892157],\n",
       "       [ 0.70282619,  0.36489107,  1.25722469]])"
      ]
     },
     "execution_count": 4,
     "metadata": {},
     "output_type": "execute_result"
    }
   ],
   "source": [
    "data"
   ]
  },
  {
   "cell_type": "code",
   "execution_count": 5,
   "id": "c323dcc8",
   "metadata": {},
   "outputs": [],
   "source": [
    "dataFrame = pd.DataFrame(data)"
   ]
  },
  {
   "cell_type": "code",
   "execution_count": 6,
   "id": "1e9fb78f",
   "metadata": {},
   "outputs": [
    {
     "data": {
      "text/html": [
       "<div>\n",
       "<style scoped>\n",
       "    .dataframe tbody tr th:only-of-type {\n",
       "        vertical-align: middle;\n",
       "    }\n",
       "\n",
       "    .dataframe tbody tr th {\n",
       "        vertical-align: top;\n",
       "    }\n",
       "\n",
       "    .dataframe thead th {\n",
       "        text-align: right;\n",
       "    }\n",
       "</style>\n",
       "<table border=\"1\" class=\"dataframe\">\n",
       "  <thead>\n",
       "    <tr style=\"text-align: right;\">\n",
       "      <th></th>\n",
       "      <th>0</th>\n",
       "      <th>1</th>\n",
       "      <th>2</th>\n",
       "    </tr>\n",
       "  </thead>\n",
       "  <tbody>\n",
       "    <tr>\n",
       "      <th>0</th>\n",
       "      <td>-1.154263</td>\n",
       "      <td>-0.446345</td>\n",
       "      <td>-0.588347</td>\n",
       "    </tr>\n",
       "    <tr>\n",
       "      <th>1</th>\n",
       "      <td>1.676850</td>\n",
       "      <td>-0.812888</td>\n",
       "      <td>0.492927</td>\n",
       "    </tr>\n",
       "    <tr>\n",
       "      <th>2</th>\n",
       "      <td>0.327258</td>\n",
       "      <td>0.127499</td>\n",
       "      <td>0.898922</td>\n",
       "    </tr>\n",
       "    <tr>\n",
       "      <th>3</th>\n",
       "      <td>0.702826</td>\n",
       "      <td>0.364891</td>\n",
       "      <td>1.257225</td>\n",
       "    </tr>\n",
       "  </tbody>\n",
       "</table>\n",
       "</div>"
      ],
      "text/plain": [
       "          0         1         2\n",
       "0 -1.154263 -0.446345 -0.588347\n",
       "1  1.676850 -0.812888  0.492927\n",
       "2  0.327258  0.127499  0.898922\n",
       "3  0.702826  0.364891  1.257225"
      ]
     },
     "execution_count": 6,
     "metadata": {},
     "output_type": "execute_result"
    }
   ],
   "source": [
    "dataFrame"
   ]
  },
  {
   "cell_type": "code",
   "execution_count": 7,
   "id": "5a383952",
   "metadata": {},
   "outputs": [
    {
     "data": {
      "text/plain": [
       "0   -1.154263\n",
       "1    1.676850\n",
       "2    0.327258\n",
       "3    0.702826\n",
       "Name: 0, dtype: float64"
      ]
     },
     "execution_count": 7,
     "metadata": {},
     "output_type": "execute_result"
    }
   ],
   "source": [
    "dataFrame[0]"
   ]
  },
  {
   "cell_type": "code",
   "execution_count": 10,
   "id": "b9cc396a",
   "metadata": {},
   "outputs": [],
   "source": [
    "yeniDataFrame = pd.DataFrame(data,index =[\"Atil\",\"Zeynep\",\"Mehmet\",\"Atlas\"],columns = [\"Maas\",\"Yas\",\"Calisma Saati\"])"
   ]
  },
  {
   "cell_type": "code",
   "execution_count": 11,
   "id": "98db6d98",
   "metadata": {},
   "outputs": [
    {
     "data": {
      "text/html": [
       "<div>\n",
       "<style scoped>\n",
       "    .dataframe tbody tr th:only-of-type {\n",
       "        vertical-align: middle;\n",
       "    }\n",
       "\n",
       "    .dataframe tbody tr th {\n",
       "        vertical-align: top;\n",
       "    }\n",
       "\n",
       "    .dataframe thead th {\n",
       "        text-align: right;\n",
       "    }\n",
       "</style>\n",
       "<table border=\"1\" class=\"dataframe\">\n",
       "  <thead>\n",
       "    <tr style=\"text-align: right;\">\n",
       "      <th></th>\n",
       "      <th>Maas</th>\n",
       "      <th>Yas</th>\n",
       "      <th>Calisma Saati</th>\n",
       "    </tr>\n",
       "  </thead>\n",
       "  <tbody>\n",
       "    <tr>\n",
       "      <th>Atil</th>\n",
       "      <td>-1.154263</td>\n",
       "      <td>-0.446345</td>\n",
       "      <td>-0.588347</td>\n",
       "    </tr>\n",
       "    <tr>\n",
       "      <th>Zeynep</th>\n",
       "      <td>1.676850</td>\n",
       "      <td>-0.812888</td>\n",
       "      <td>0.492927</td>\n",
       "    </tr>\n",
       "    <tr>\n",
       "      <th>Mehmet</th>\n",
       "      <td>0.327258</td>\n",
       "      <td>0.127499</td>\n",
       "      <td>0.898922</td>\n",
       "    </tr>\n",
       "    <tr>\n",
       "      <th>Atlas</th>\n",
       "      <td>0.702826</td>\n",
       "      <td>0.364891</td>\n",
       "      <td>1.257225</td>\n",
       "    </tr>\n",
       "  </tbody>\n",
       "</table>\n",
       "</div>"
      ],
      "text/plain": [
       "            Maas       Yas  Calisma Saati\n",
       "Atil   -1.154263 -0.446345      -0.588347\n",
       "Zeynep  1.676850 -0.812888       0.492927\n",
       "Mehmet  0.327258  0.127499       0.898922\n",
       "Atlas   0.702826  0.364891       1.257225"
      ]
     },
     "execution_count": 11,
     "metadata": {},
     "output_type": "execute_result"
    }
   ],
   "source": [
    "yeniDataFrame"
   ]
  },
  {
   "cell_type": "code",
   "execution_count": 12,
   "id": "792198f4",
   "metadata": {},
   "outputs": [
    {
     "data": {
      "text/plain": [
       "Atil     -0.446345\n",
       "Zeynep   -0.812888\n",
       "Mehmet    0.127499\n",
       "Atlas     0.364891\n",
       "Name: Yas, dtype: float64"
      ]
     },
     "execution_count": 12,
     "metadata": {},
     "output_type": "execute_result"
    }
   ],
   "source": [
    "yeniDataFrame[\"Yas\"]"
   ]
  },
  {
   "cell_type": "code",
   "execution_count": 13,
   "id": "e48a766b",
   "metadata": {},
   "outputs": [
    {
     "data": {
      "text/plain": [
       "Atil     -0.588347\n",
       "Zeynep    0.492927\n",
       "Mehmet    0.898922\n",
       "Atlas     1.257225\n",
       "Name: Calisma Saati, dtype: float64"
      ]
     },
     "execution_count": 13,
     "metadata": {},
     "output_type": "execute_result"
    }
   ],
   "source": [
    "yeniDataFrame[\"Calisma Saati\"]"
   ]
  },
  {
   "cell_type": "code",
   "execution_count": 15,
   "id": "7494ad4c",
   "metadata": {},
   "outputs": [
    {
     "data": {
      "text/html": [
       "<div>\n",
       "<style scoped>\n",
       "    .dataframe tbody tr th:only-of-type {\n",
       "        vertical-align: middle;\n",
       "    }\n",
       "\n",
       "    .dataframe tbody tr th {\n",
       "        vertical-align: top;\n",
       "    }\n",
       "\n",
       "    .dataframe thead th {\n",
       "        text-align: right;\n",
       "    }\n",
       "</style>\n",
       "<table border=\"1\" class=\"dataframe\">\n",
       "  <thead>\n",
       "    <tr style=\"text-align: right;\">\n",
       "      <th></th>\n",
       "      <th>Maas</th>\n",
       "      <th>Yas</th>\n",
       "    </tr>\n",
       "  </thead>\n",
       "  <tbody>\n",
       "    <tr>\n",
       "      <th>Atil</th>\n",
       "      <td>-1.154263</td>\n",
       "      <td>-0.446345</td>\n",
       "    </tr>\n",
       "    <tr>\n",
       "      <th>Zeynep</th>\n",
       "      <td>1.676850</td>\n",
       "      <td>-0.812888</td>\n",
       "    </tr>\n",
       "    <tr>\n",
       "      <th>Mehmet</th>\n",
       "      <td>0.327258</td>\n",
       "      <td>0.127499</td>\n",
       "    </tr>\n",
       "    <tr>\n",
       "      <th>Atlas</th>\n",
       "      <td>0.702826</td>\n",
       "      <td>0.364891</td>\n",
       "    </tr>\n",
       "  </tbody>\n",
       "</table>\n",
       "</div>"
      ],
      "text/plain": [
       "            Maas       Yas\n",
       "Atil   -1.154263 -0.446345\n",
       "Zeynep  1.676850 -0.812888\n",
       "Mehmet  0.327258  0.127499\n",
       "Atlas   0.702826  0.364891"
      ]
     },
     "execution_count": 15,
     "metadata": {},
     "output_type": "execute_result"
    }
   ],
   "source": [
    "yeniDataFrame[[\"Maas\",\"Yas\"]]"
   ]
  },
  {
   "cell_type": "code",
   "execution_count": 16,
   "id": "24712868",
   "metadata": {},
   "outputs": [
    {
     "data": {
      "text/plain": [
       "Maas            -1.154263\n",
       "Yas             -0.446345\n",
       "Calisma Saati   -0.588347\n",
       "Name: Atil, dtype: float64"
      ]
     },
     "execution_count": 16,
     "metadata": {},
     "output_type": "execute_result"
    }
   ],
   "source": [
    "yeniDataFrame.loc[\"Atil\"]   #sütun yerine satır almak istersek"
   ]
  },
  {
   "cell_type": "code",
   "execution_count": 17,
   "id": "d66fac22",
   "metadata": {},
   "outputs": [
    {
     "data": {
      "text/plain": [
       "Maas             1.676850\n",
       "Yas             -0.812888\n",
       "Calisma Saati    0.492927\n",
       "Name: Zeynep, dtype: float64"
      ]
     },
     "execution_count": 17,
     "metadata": {},
     "output_type": "execute_result"
    }
   ],
   "source": [
    "yeniDataFrame.loc[\"Zeynep\"] "
   ]
  },
  {
   "cell_type": "code",
   "execution_count": 19,
   "id": "4ef6bc98",
   "metadata": {},
   "outputs": [
    {
     "data": {
      "text/plain": [
       "Maas             1.676850\n",
       "Yas             -0.812888\n",
       "Calisma Saati    0.492927\n",
       "Name: Zeynep, dtype: float64"
      ]
     },
     "execution_count": 19,
     "metadata": {},
     "output_type": "execute_result"
    }
   ],
   "source": [
    "yeniDataFrame.iloc[1] #index bazlı loc"
   ]
  },
  {
   "cell_type": "code",
   "execution_count": 20,
   "id": "3a24306c",
   "metadata": {},
   "outputs": [
    {
     "data": {
      "text/html": [
       "<div>\n",
       "<style scoped>\n",
       "    .dataframe tbody tr th:only-of-type {\n",
       "        vertical-align: middle;\n",
       "    }\n",
       "\n",
       "    .dataframe tbody tr th {\n",
       "        vertical-align: top;\n",
       "    }\n",
       "\n",
       "    .dataframe thead th {\n",
       "        text-align: right;\n",
       "    }\n",
       "</style>\n",
       "<table border=\"1\" class=\"dataframe\">\n",
       "  <thead>\n",
       "    <tr style=\"text-align: right;\">\n",
       "      <th></th>\n",
       "      <th>Maas</th>\n",
       "      <th>Yas</th>\n",
       "      <th>Calisma Saati</th>\n",
       "    </tr>\n",
       "  </thead>\n",
       "  <tbody>\n",
       "    <tr>\n",
       "      <th>Atil</th>\n",
       "      <td>-1.154263</td>\n",
       "      <td>-0.446345</td>\n",
       "      <td>-0.588347</td>\n",
       "    </tr>\n",
       "    <tr>\n",
       "      <th>Zeynep</th>\n",
       "      <td>1.676850</td>\n",
       "      <td>-0.812888</td>\n",
       "      <td>0.492927</td>\n",
       "    </tr>\n",
       "    <tr>\n",
       "      <th>Mehmet</th>\n",
       "      <td>0.327258</td>\n",
       "      <td>0.127499</td>\n",
       "      <td>0.898922</td>\n",
       "    </tr>\n",
       "    <tr>\n",
       "      <th>Atlas</th>\n",
       "      <td>0.702826</td>\n",
       "      <td>0.364891</td>\n",
       "      <td>1.257225</td>\n",
       "    </tr>\n",
       "  </tbody>\n",
       "</table>\n",
       "</div>"
      ],
      "text/plain": [
       "            Maas       Yas  Calisma Saati\n",
       "Atil   -1.154263 -0.446345      -0.588347\n",
       "Zeynep  1.676850 -0.812888       0.492927\n",
       "Mehmet  0.327258  0.127499       0.898922\n",
       "Atlas   0.702826  0.364891       1.257225"
      ]
     },
     "execution_count": 20,
     "metadata": {},
     "output_type": "execute_result"
    }
   ],
   "source": [
    "yeniDataFrame"
   ]
  },
  {
   "cell_type": "code",
   "execution_count": 21,
   "id": "4761079c",
   "metadata": {},
   "outputs": [],
   "source": [
    "#yeni bir column nasıl eklenir:\n",
    "yeniDataFrame[\"Emeklilik Yasi\"] = yeniDataFrame[\"Yas\"] + yeniDataFrame[\"Yas\"]"
   ]
  },
  {
   "cell_type": "code",
   "execution_count": 22,
   "id": "58b2df8a",
   "metadata": {},
   "outputs": [
    {
     "data": {
      "text/html": [
       "<div>\n",
       "<style scoped>\n",
       "    .dataframe tbody tr th:only-of-type {\n",
       "        vertical-align: middle;\n",
       "    }\n",
       "\n",
       "    .dataframe tbody tr th {\n",
       "        vertical-align: top;\n",
       "    }\n",
       "\n",
       "    .dataframe thead th {\n",
       "        text-align: right;\n",
       "    }\n",
       "</style>\n",
       "<table border=\"1\" class=\"dataframe\">\n",
       "  <thead>\n",
       "    <tr style=\"text-align: right;\">\n",
       "      <th></th>\n",
       "      <th>Maas</th>\n",
       "      <th>Yas</th>\n",
       "      <th>Calisma Saati</th>\n",
       "      <th>Emeklilik Yasi</th>\n",
       "    </tr>\n",
       "  </thead>\n",
       "  <tbody>\n",
       "    <tr>\n",
       "      <th>Atil</th>\n",
       "      <td>-1.154263</td>\n",
       "      <td>-0.446345</td>\n",
       "      <td>-0.588347</td>\n",
       "      <td>-0.892690</td>\n",
       "    </tr>\n",
       "    <tr>\n",
       "      <th>Zeynep</th>\n",
       "      <td>1.676850</td>\n",
       "      <td>-0.812888</td>\n",
       "      <td>0.492927</td>\n",
       "      <td>-1.625775</td>\n",
       "    </tr>\n",
       "    <tr>\n",
       "      <th>Mehmet</th>\n",
       "      <td>0.327258</td>\n",
       "      <td>0.127499</td>\n",
       "      <td>0.898922</td>\n",
       "      <td>0.254998</td>\n",
       "    </tr>\n",
       "    <tr>\n",
       "      <th>Atlas</th>\n",
       "      <td>0.702826</td>\n",
       "      <td>0.364891</td>\n",
       "      <td>1.257225</td>\n",
       "      <td>0.729782</td>\n",
       "    </tr>\n",
       "  </tbody>\n",
       "</table>\n",
       "</div>"
      ],
      "text/plain": [
       "            Maas       Yas  Calisma Saati  Emeklilik Yasi\n",
       "Atil   -1.154263 -0.446345      -0.588347       -0.892690\n",
       "Zeynep  1.676850 -0.812888       0.492927       -1.625775\n",
       "Mehmet  0.327258  0.127499       0.898922        0.254998\n",
       "Atlas   0.702826  0.364891       1.257225        0.729782"
      ]
     },
     "execution_count": 22,
     "metadata": {},
     "output_type": "execute_result"
    }
   ],
   "source": [
    "yeniDataFrame"
   ]
  },
  {
   "cell_type": "code",
   "execution_count": 24,
   "id": "8b351b53",
   "metadata": {},
   "outputs": [
    {
     "data": {
      "text/html": [
       "<div>\n",
       "<style scoped>\n",
       "    .dataframe tbody tr th:only-of-type {\n",
       "        vertical-align: middle;\n",
       "    }\n",
       "\n",
       "    .dataframe tbody tr th {\n",
       "        vertical-align: top;\n",
       "    }\n",
       "\n",
       "    .dataframe thead th {\n",
       "        text-align: right;\n",
       "    }\n",
       "</style>\n",
       "<table border=\"1\" class=\"dataframe\">\n",
       "  <thead>\n",
       "    <tr style=\"text-align: right;\">\n",
       "      <th></th>\n",
       "      <th>Maas</th>\n",
       "      <th>Yas</th>\n",
       "      <th>Calisma Saati</th>\n",
       "    </tr>\n",
       "  </thead>\n",
       "  <tbody>\n",
       "    <tr>\n",
       "      <th>Atil</th>\n",
       "      <td>-1.154263</td>\n",
       "      <td>-0.446345</td>\n",
       "      <td>-0.588347</td>\n",
       "    </tr>\n",
       "    <tr>\n",
       "      <th>Zeynep</th>\n",
       "      <td>1.676850</td>\n",
       "      <td>-0.812888</td>\n",
       "      <td>0.492927</td>\n",
       "    </tr>\n",
       "    <tr>\n",
       "      <th>Mehmet</th>\n",
       "      <td>0.327258</td>\n",
       "      <td>0.127499</td>\n",
       "      <td>0.898922</td>\n",
       "    </tr>\n",
       "    <tr>\n",
       "      <th>Atlas</th>\n",
       "      <td>0.702826</td>\n",
       "      <td>0.364891</td>\n",
       "      <td>1.257225</td>\n",
       "    </tr>\n",
       "  </tbody>\n",
       "</table>\n",
       "</div>"
      ],
      "text/plain": [
       "            Maas       Yas  Calisma Saati\n",
       "Atil   -1.154263 -0.446345      -0.588347\n",
       "Zeynep  1.676850 -0.812888       0.492927\n",
       "Mehmet  0.327258  0.127499       0.898922\n",
       "Atlas   0.702826  0.364891       1.257225"
      ]
     },
     "execution_count": 24,
     "metadata": {},
     "output_type": "execute_result"
    }
   ],
   "source": [
    "yeniDataFrame.drop(\"Emeklilik Yasi\",axis =1) #column"
   ]
  },
  {
   "cell_type": "code",
   "execution_count": 25,
   "id": "f70e216e",
   "metadata": {},
   "outputs": [
    {
     "data": {
      "text/html": [
       "<div>\n",
       "<style scoped>\n",
       "    .dataframe tbody tr th:only-of-type {\n",
       "        vertical-align: middle;\n",
       "    }\n",
       "\n",
       "    .dataframe tbody tr th {\n",
       "        vertical-align: top;\n",
       "    }\n",
       "\n",
       "    .dataframe thead th {\n",
       "        text-align: right;\n",
       "    }\n",
       "</style>\n",
       "<table border=\"1\" class=\"dataframe\">\n",
       "  <thead>\n",
       "    <tr style=\"text-align: right;\">\n",
       "      <th></th>\n",
       "      <th>Maas</th>\n",
       "      <th>Yas</th>\n",
       "      <th>Calisma Saati</th>\n",
       "      <th>Emeklilik Yasi</th>\n",
       "    </tr>\n",
       "  </thead>\n",
       "  <tbody>\n",
       "    <tr>\n",
       "      <th>Atil</th>\n",
       "      <td>-1.154263</td>\n",
       "      <td>-0.446345</td>\n",
       "      <td>-0.588347</td>\n",
       "      <td>-0.892690</td>\n",
       "    </tr>\n",
       "    <tr>\n",
       "      <th>Zeynep</th>\n",
       "      <td>1.676850</td>\n",
       "      <td>-0.812888</td>\n",
       "      <td>0.492927</td>\n",
       "      <td>-1.625775</td>\n",
       "    </tr>\n",
       "    <tr>\n",
       "      <th>Atlas</th>\n",
       "      <td>0.702826</td>\n",
       "      <td>0.364891</td>\n",
       "      <td>1.257225</td>\n",
       "      <td>0.729782</td>\n",
       "    </tr>\n",
       "  </tbody>\n",
       "</table>\n",
       "</div>"
      ],
      "text/plain": [
       "            Maas       Yas  Calisma Saati  Emeklilik Yasi\n",
       "Atil   -1.154263 -0.446345      -0.588347       -0.892690\n",
       "Zeynep  1.676850 -0.812888       0.492927       -1.625775\n",
       "Atlas   0.702826  0.364891       1.257225        0.729782"
      ]
     },
     "execution_count": 25,
     "metadata": {},
     "output_type": "execute_result"
    }
   ],
   "source": [
    "yeniDataFrame.drop(\"Mehmet\",axis =0) #row"
   ]
  },
  {
   "cell_type": "code",
   "execution_count": 26,
   "id": "3babbc3a",
   "metadata": {},
   "outputs": [
    {
     "data": {
      "text/html": [
       "<div>\n",
       "<style scoped>\n",
       "    .dataframe tbody tr th:only-of-type {\n",
       "        vertical-align: middle;\n",
       "    }\n",
       "\n",
       "    .dataframe tbody tr th {\n",
       "        vertical-align: top;\n",
       "    }\n",
       "\n",
       "    .dataframe thead th {\n",
       "        text-align: right;\n",
       "    }\n",
       "</style>\n",
       "<table border=\"1\" class=\"dataframe\">\n",
       "  <thead>\n",
       "    <tr style=\"text-align: right;\">\n",
       "      <th></th>\n",
       "      <th>Maas</th>\n",
       "      <th>Yas</th>\n",
       "      <th>Calisma Saati</th>\n",
       "      <th>Emeklilik Yasi</th>\n",
       "    </tr>\n",
       "  </thead>\n",
       "  <tbody>\n",
       "    <tr>\n",
       "      <th>Atil</th>\n",
       "      <td>-1.154263</td>\n",
       "      <td>-0.446345</td>\n",
       "      <td>-0.588347</td>\n",
       "      <td>-0.892690</td>\n",
       "    </tr>\n",
       "    <tr>\n",
       "      <th>Zeynep</th>\n",
       "      <td>1.676850</td>\n",
       "      <td>-0.812888</td>\n",
       "      <td>0.492927</td>\n",
       "      <td>-1.625775</td>\n",
       "    </tr>\n",
       "    <tr>\n",
       "      <th>Mehmet</th>\n",
       "      <td>0.327258</td>\n",
       "      <td>0.127499</td>\n",
       "      <td>0.898922</td>\n",
       "      <td>0.254998</td>\n",
       "    </tr>\n",
       "    <tr>\n",
       "      <th>Atlas</th>\n",
       "      <td>0.702826</td>\n",
       "      <td>0.364891</td>\n",
       "      <td>1.257225</td>\n",
       "      <td>0.729782</td>\n",
       "    </tr>\n",
       "  </tbody>\n",
       "</table>\n",
       "</div>"
      ],
      "text/plain": [
       "            Maas       Yas  Calisma Saati  Emeklilik Yasi\n",
       "Atil   -1.154263 -0.446345      -0.588347       -0.892690\n",
       "Zeynep  1.676850 -0.812888       0.492927       -1.625775\n",
       "Mehmet  0.327258  0.127499       0.898922        0.254998\n",
       "Atlas   0.702826  0.364891       1.257225        0.729782"
      ]
     },
     "execution_count": 26,
     "metadata": {},
     "output_type": "execute_result"
    }
   ],
   "source": [
    "yeniDataFrame "
   ]
  },
  {
   "cell_type": "markdown",
   "id": "4349ac89",
   "metadata": {},
   "source": [
    "değişiklik yaptığında özellikler belirtmezsen üzerinde oynama yaptığın dataframe temelli değişikliğe uğramaz aynı kalır: inplace"
   ]
  },
  {
   "cell_type": "code",
   "execution_count": 27,
   "id": "5f36dfe4",
   "metadata": {},
   "outputs": [],
   "source": [
    "yeniDataFrame.drop(\"Emeklilik Yasi\",axis =1,inplace =True) "
   ]
  },
  {
   "cell_type": "code",
   "execution_count": 28,
   "id": "d32ef776",
   "metadata": {},
   "outputs": [
    {
     "data": {
      "text/html": [
       "<div>\n",
       "<style scoped>\n",
       "    .dataframe tbody tr th:only-of-type {\n",
       "        vertical-align: middle;\n",
       "    }\n",
       "\n",
       "    .dataframe tbody tr th {\n",
       "        vertical-align: top;\n",
       "    }\n",
       "\n",
       "    .dataframe thead th {\n",
       "        text-align: right;\n",
       "    }\n",
       "</style>\n",
       "<table border=\"1\" class=\"dataframe\">\n",
       "  <thead>\n",
       "    <tr style=\"text-align: right;\">\n",
       "      <th></th>\n",
       "      <th>Maas</th>\n",
       "      <th>Yas</th>\n",
       "      <th>Calisma Saati</th>\n",
       "    </tr>\n",
       "  </thead>\n",
       "  <tbody>\n",
       "    <tr>\n",
       "      <th>Atil</th>\n",
       "      <td>-1.154263</td>\n",
       "      <td>-0.446345</td>\n",
       "      <td>-0.588347</td>\n",
       "    </tr>\n",
       "    <tr>\n",
       "      <th>Zeynep</th>\n",
       "      <td>1.676850</td>\n",
       "      <td>-0.812888</td>\n",
       "      <td>0.492927</td>\n",
       "    </tr>\n",
       "    <tr>\n",
       "      <th>Mehmet</th>\n",
       "      <td>0.327258</td>\n",
       "      <td>0.127499</td>\n",
       "      <td>0.898922</td>\n",
       "    </tr>\n",
       "    <tr>\n",
       "      <th>Atlas</th>\n",
       "      <td>0.702826</td>\n",
       "      <td>0.364891</td>\n",
       "      <td>1.257225</td>\n",
       "    </tr>\n",
       "  </tbody>\n",
       "</table>\n",
       "</div>"
      ],
      "text/plain": [
       "            Maas       Yas  Calisma Saati\n",
       "Atil   -1.154263 -0.446345      -0.588347\n",
       "Zeynep  1.676850 -0.812888       0.492927\n",
       "Mehmet  0.327258  0.127499       0.898922\n",
       "Atlas   0.702826  0.364891       1.257225"
      ]
     },
     "execution_count": 28,
     "metadata": {},
     "output_type": "execute_result"
    }
   ],
   "source": [
    "yeniDataFrame"
   ]
  },
  {
   "cell_type": "markdown",
   "id": "89349e2b",
   "metadata": {},
   "source": [
    "burda emeklilik yaşı artık dataframe den silindi"
   ]
  },
  {
   "cell_type": "code",
   "execution_count": 29,
   "id": "4137ffd8",
   "metadata": {},
   "outputs": [
    {
     "data": {
      "text/plain": [
       "-0.44634515302506883"
      ]
     },
     "execution_count": 29,
     "metadata": {},
     "output_type": "execute_result"
    }
   ],
   "source": [
    "yeniDataFrame.loc[\"Atil\"][\"Yas\"]"
   ]
  },
  {
   "cell_type": "code",
   "execution_count": 30,
   "id": "36c8eab1",
   "metadata": {},
   "outputs": [
    {
     "data": {
      "text/plain": [
       "-0.44634515302506883"
      ]
     },
     "execution_count": 30,
     "metadata": {},
     "output_type": "execute_result"
    }
   ],
   "source": [
    "yeniDataFrame.loc[\"Atil\",\"Yas\"]"
   ]
  },
  {
   "cell_type": "code",
   "execution_count": 31,
   "id": "4c335c71",
   "metadata": {},
   "outputs": [
    {
     "data": {
      "text/html": [
       "<div>\n",
       "<style scoped>\n",
       "    .dataframe tbody tr th:only-of-type {\n",
       "        vertical-align: middle;\n",
       "    }\n",
       "\n",
       "    .dataframe tbody tr th {\n",
       "        vertical-align: top;\n",
       "    }\n",
       "\n",
       "    .dataframe thead th {\n",
       "        text-align: right;\n",
       "    }\n",
       "</style>\n",
       "<table border=\"1\" class=\"dataframe\">\n",
       "  <thead>\n",
       "    <tr style=\"text-align: right;\">\n",
       "      <th></th>\n",
       "      <th>Maas</th>\n",
       "      <th>Yas</th>\n",
       "      <th>Calisma Saati</th>\n",
       "    </tr>\n",
       "  </thead>\n",
       "  <tbody>\n",
       "    <tr>\n",
       "      <th>Atil</th>\n",
       "      <td>-1.154263</td>\n",
       "      <td>-0.446345</td>\n",
       "      <td>-0.588347</td>\n",
       "    </tr>\n",
       "    <tr>\n",
       "      <th>Zeynep</th>\n",
       "      <td>1.676850</td>\n",
       "      <td>-0.812888</td>\n",
       "      <td>0.492927</td>\n",
       "    </tr>\n",
       "    <tr>\n",
       "      <th>Mehmet</th>\n",
       "      <td>0.327258</td>\n",
       "      <td>0.127499</td>\n",
       "      <td>0.898922</td>\n",
       "    </tr>\n",
       "    <tr>\n",
       "      <th>Atlas</th>\n",
       "      <td>0.702826</td>\n",
       "      <td>0.364891</td>\n",
       "      <td>1.257225</td>\n",
       "    </tr>\n",
       "  </tbody>\n",
       "</table>\n",
       "</div>"
      ],
      "text/plain": [
       "            Maas       Yas  Calisma Saati\n",
       "Atil   -1.154263 -0.446345      -0.588347\n",
       "Zeynep  1.676850 -0.812888       0.492927\n",
       "Mehmet  0.327258  0.127499       0.898922\n",
       "Atlas   0.702826  0.364891       1.257225"
      ]
     },
     "execution_count": 31,
     "metadata": {},
     "output_type": "execute_result"
    }
   ],
   "source": [
    "yeniDataFrame"
   ]
  },
  {
   "cell_type": "code",
   "execution_count": 33,
   "id": "b64f1ba1",
   "metadata": {},
   "outputs": [],
   "source": [
    "booleanFrame = yeniDataFrame < 0"
   ]
  },
  {
   "cell_type": "code",
   "execution_count": 34,
   "id": "eb01ea97",
   "metadata": {},
   "outputs": [
    {
     "data": {
      "text/html": [
       "<div>\n",
       "<style scoped>\n",
       "    .dataframe tbody tr th:only-of-type {\n",
       "        vertical-align: middle;\n",
       "    }\n",
       "\n",
       "    .dataframe tbody tr th {\n",
       "        vertical-align: top;\n",
       "    }\n",
       "\n",
       "    .dataframe thead th {\n",
       "        text-align: right;\n",
       "    }\n",
       "</style>\n",
       "<table border=\"1\" class=\"dataframe\">\n",
       "  <thead>\n",
       "    <tr style=\"text-align: right;\">\n",
       "      <th></th>\n",
       "      <th>Maas</th>\n",
       "      <th>Yas</th>\n",
       "      <th>Calisma Saati</th>\n",
       "    </tr>\n",
       "  </thead>\n",
       "  <tbody>\n",
       "    <tr>\n",
       "      <th>Atil</th>\n",
       "      <td>True</td>\n",
       "      <td>True</td>\n",
       "      <td>True</td>\n",
       "    </tr>\n",
       "    <tr>\n",
       "      <th>Zeynep</th>\n",
       "      <td>False</td>\n",
       "      <td>True</td>\n",
       "      <td>False</td>\n",
       "    </tr>\n",
       "    <tr>\n",
       "      <th>Mehmet</th>\n",
       "      <td>False</td>\n",
       "      <td>False</td>\n",
       "      <td>False</td>\n",
       "    </tr>\n",
       "    <tr>\n",
       "      <th>Atlas</th>\n",
       "      <td>False</td>\n",
       "      <td>False</td>\n",
       "      <td>False</td>\n",
       "    </tr>\n",
       "  </tbody>\n",
       "</table>\n",
       "</div>"
      ],
      "text/plain": [
       "         Maas    Yas  Calisma Saati\n",
       "Atil     True   True           True\n",
       "Zeynep  False   True          False\n",
       "Mehmet  False  False          False\n",
       "Atlas   False  False          False"
      ]
     },
     "execution_count": 34,
     "metadata": {},
     "output_type": "execute_result"
    }
   ],
   "source": [
    "booleanFrame"
   ]
  },
  {
   "cell_type": "code",
   "execution_count": 35,
   "id": "0b78c4b0",
   "metadata": {},
   "outputs": [
    {
     "data": {
      "text/html": [
       "<div>\n",
       "<style scoped>\n",
       "    .dataframe tbody tr th:only-of-type {\n",
       "        vertical-align: middle;\n",
       "    }\n",
       "\n",
       "    .dataframe tbody tr th {\n",
       "        vertical-align: top;\n",
       "    }\n",
       "\n",
       "    .dataframe thead th {\n",
       "        text-align: right;\n",
       "    }\n",
       "</style>\n",
       "<table border=\"1\" class=\"dataframe\">\n",
       "  <thead>\n",
       "    <tr style=\"text-align: right;\">\n",
       "      <th></th>\n",
       "      <th>Maas</th>\n",
       "      <th>Yas</th>\n",
       "      <th>Calisma Saati</th>\n",
       "    </tr>\n",
       "  </thead>\n",
       "  <tbody>\n",
       "    <tr>\n",
       "      <th>Atil</th>\n",
       "      <td>-1.154263</td>\n",
       "      <td>-0.446345</td>\n",
       "      <td>-0.588347</td>\n",
       "    </tr>\n",
       "    <tr>\n",
       "      <th>Zeynep</th>\n",
       "      <td>NaN</td>\n",
       "      <td>-0.812888</td>\n",
       "      <td>NaN</td>\n",
       "    </tr>\n",
       "    <tr>\n",
       "      <th>Mehmet</th>\n",
       "      <td>NaN</td>\n",
       "      <td>NaN</td>\n",
       "      <td>NaN</td>\n",
       "    </tr>\n",
       "    <tr>\n",
       "      <th>Atlas</th>\n",
       "      <td>NaN</td>\n",
       "      <td>NaN</td>\n",
       "      <td>NaN</td>\n",
       "    </tr>\n",
       "  </tbody>\n",
       "</table>\n",
       "</div>"
      ],
      "text/plain": [
       "            Maas       Yas  Calisma Saati\n",
       "Atil   -1.154263 -0.446345      -0.588347\n",
       "Zeynep       NaN -0.812888            NaN\n",
       "Mehmet       NaN       NaN            NaN\n",
       "Atlas        NaN       NaN            NaN"
      ]
     },
     "execution_count": 35,
     "metadata": {},
     "output_type": "execute_result"
    }
   ],
   "source": [
    "yeniDataFrame[booleanFrame]"
   ]
  },
  {
   "cell_type": "code",
   "execution_count": 36,
   "id": "19902bb9",
   "metadata": {},
   "outputs": [
    {
     "data": {
      "text/html": [
       "<div>\n",
       "<style scoped>\n",
       "    .dataframe tbody tr th:only-of-type {\n",
       "        vertical-align: middle;\n",
       "    }\n",
       "\n",
       "    .dataframe tbody tr th {\n",
       "        vertical-align: top;\n",
       "    }\n",
       "\n",
       "    .dataframe thead th {\n",
       "        text-align: right;\n",
       "    }\n",
       "</style>\n",
       "<table border=\"1\" class=\"dataframe\">\n",
       "  <thead>\n",
       "    <tr style=\"text-align: right;\">\n",
       "      <th></th>\n",
       "      <th>Maas</th>\n",
       "      <th>Yas</th>\n",
       "      <th>Calisma Saati</th>\n",
       "    </tr>\n",
       "  </thead>\n",
       "  <tbody>\n",
       "    <tr>\n",
       "      <th>Atil</th>\n",
       "      <td>-1.154263</td>\n",
       "      <td>-0.446345</td>\n",
       "      <td>-0.588347</td>\n",
       "    </tr>\n",
       "    <tr>\n",
       "      <th>Zeynep</th>\n",
       "      <td>NaN</td>\n",
       "      <td>-0.812888</td>\n",
       "      <td>NaN</td>\n",
       "    </tr>\n",
       "    <tr>\n",
       "      <th>Mehmet</th>\n",
       "      <td>NaN</td>\n",
       "      <td>NaN</td>\n",
       "      <td>NaN</td>\n",
       "    </tr>\n",
       "    <tr>\n",
       "      <th>Atlas</th>\n",
       "      <td>NaN</td>\n",
       "      <td>NaN</td>\n",
       "      <td>NaN</td>\n",
       "    </tr>\n",
       "  </tbody>\n",
       "</table>\n",
       "</div>"
      ],
      "text/plain": [
       "            Maas       Yas  Calisma Saati\n",
       "Atil   -1.154263 -0.446345      -0.588347\n",
       "Zeynep       NaN -0.812888            NaN\n",
       "Mehmet       NaN       NaN            NaN\n",
       "Atlas        NaN       NaN            NaN"
      ]
     },
     "execution_count": 36,
     "metadata": {},
     "output_type": "execute_result"
    }
   ],
   "source": [
    "yeniDataFrame[yeniDataFrame<0]"
   ]
  },
  {
   "cell_type": "code",
   "execution_count": 37,
   "id": "c4314851",
   "metadata": {},
   "outputs": [
    {
     "data": {
      "text/html": [
       "<div>\n",
       "<style scoped>\n",
       "    .dataframe tbody tr th:only-of-type {\n",
       "        vertical-align: middle;\n",
       "    }\n",
       "\n",
       "    .dataframe tbody tr th {\n",
       "        vertical-align: top;\n",
       "    }\n",
       "\n",
       "    .dataframe thead th {\n",
       "        text-align: right;\n",
       "    }\n",
       "</style>\n",
       "<table border=\"1\" class=\"dataframe\">\n",
       "  <thead>\n",
       "    <tr style=\"text-align: right;\">\n",
       "      <th></th>\n",
       "      <th>Maas</th>\n",
       "      <th>Yas</th>\n",
       "      <th>Calisma Saati</th>\n",
       "    </tr>\n",
       "  </thead>\n",
       "  <tbody>\n",
       "    <tr>\n",
       "      <th>Mehmet</th>\n",
       "      <td>0.327258</td>\n",
       "      <td>0.127499</td>\n",
       "      <td>0.898922</td>\n",
       "    </tr>\n",
       "    <tr>\n",
       "      <th>Atlas</th>\n",
       "      <td>0.702826</td>\n",
       "      <td>0.364891</td>\n",
       "      <td>1.257225</td>\n",
       "    </tr>\n",
       "  </tbody>\n",
       "</table>\n",
       "</div>"
      ],
      "text/plain": [
       "            Maas       Yas  Calisma Saati\n",
       "Mehmet  0.327258  0.127499       0.898922\n",
       "Atlas   0.702826  0.364891       1.257225"
      ]
     },
     "execution_count": 37,
     "metadata": {},
     "output_type": "execute_result"
    }
   ],
   "source": [
    "yeniDataFrame[yeniDataFrame[\"Yas\"]>0]"
   ]
  },
  {
   "cell_type": "code",
   "execution_count": 38,
   "id": "6f2e161d",
   "metadata": {},
   "outputs": [
    {
     "data": {
      "text/html": [
       "<div>\n",
       "<style scoped>\n",
       "    .dataframe tbody tr th:only-of-type {\n",
       "        vertical-align: middle;\n",
       "    }\n",
       "\n",
       "    .dataframe tbody tr th {\n",
       "        vertical-align: top;\n",
       "    }\n",
       "\n",
       "    .dataframe thead th {\n",
       "        text-align: right;\n",
       "    }\n",
       "</style>\n",
       "<table border=\"1\" class=\"dataframe\">\n",
       "  <thead>\n",
       "    <tr style=\"text-align: right;\">\n",
       "      <th></th>\n",
       "      <th>Maas</th>\n",
       "      <th>Yas</th>\n",
       "      <th>Calisma Saati</th>\n",
       "    </tr>\n",
       "  </thead>\n",
       "  <tbody>\n",
       "    <tr>\n",
       "      <th>Zeynep</th>\n",
       "      <td>1.676850</td>\n",
       "      <td>-0.812888</td>\n",
       "      <td>0.492927</td>\n",
       "    </tr>\n",
       "    <tr>\n",
       "      <th>Mehmet</th>\n",
       "      <td>0.327258</td>\n",
       "      <td>0.127499</td>\n",
       "      <td>0.898922</td>\n",
       "    </tr>\n",
       "    <tr>\n",
       "      <th>Atlas</th>\n",
       "      <td>0.702826</td>\n",
       "      <td>0.364891</td>\n",
       "      <td>1.257225</td>\n",
       "    </tr>\n",
       "  </tbody>\n",
       "</table>\n",
       "</div>"
      ],
      "text/plain": [
       "            Maas       Yas  Calisma Saati\n",
       "Zeynep  1.676850 -0.812888       0.492927\n",
       "Mehmet  0.327258  0.127499       0.898922\n",
       "Atlas   0.702826  0.364891       1.257225"
      ]
     },
     "execution_count": 38,
     "metadata": {},
     "output_type": "execute_result"
    }
   ],
   "source": [
    "yeniDataFrame[yeniDataFrame[\"Calisma Saati\"]>0]"
   ]
  },
  {
   "cell_type": "code",
   "execution_count": 40,
   "id": "7ec00abc",
   "metadata": {},
   "outputs": [
    {
     "data": {
      "text/html": [
       "<div>\n",
       "<style scoped>\n",
       "    .dataframe tbody tr th:only-of-type {\n",
       "        vertical-align: middle;\n",
       "    }\n",
       "\n",
       "    .dataframe tbody tr th {\n",
       "        vertical-align: top;\n",
       "    }\n",
       "\n",
       "    .dataframe thead th {\n",
       "        text-align: right;\n",
       "    }\n",
       "</style>\n",
       "<table border=\"1\" class=\"dataframe\">\n",
       "  <thead>\n",
       "    <tr style=\"text-align: right;\">\n",
       "      <th></th>\n",
       "      <th>index</th>\n",
       "      <th>Maas</th>\n",
       "      <th>Yas</th>\n",
       "      <th>Calisma Saati</th>\n",
       "    </tr>\n",
       "  </thead>\n",
       "  <tbody>\n",
       "    <tr>\n",
       "      <th>0</th>\n",
       "      <td>Atil</td>\n",
       "      <td>-1.154263</td>\n",
       "      <td>-0.446345</td>\n",
       "      <td>-0.588347</td>\n",
       "    </tr>\n",
       "    <tr>\n",
       "      <th>1</th>\n",
       "      <td>Zeynep</td>\n",
       "      <td>1.676850</td>\n",
       "      <td>-0.812888</td>\n",
       "      <td>0.492927</td>\n",
       "    </tr>\n",
       "    <tr>\n",
       "      <th>2</th>\n",
       "      <td>Mehmet</td>\n",
       "      <td>0.327258</td>\n",
       "      <td>0.127499</td>\n",
       "      <td>0.898922</td>\n",
       "    </tr>\n",
       "    <tr>\n",
       "      <th>3</th>\n",
       "      <td>Atlas</td>\n",
       "      <td>0.702826</td>\n",
       "      <td>0.364891</td>\n",
       "      <td>1.257225</td>\n",
       "    </tr>\n",
       "  </tbody>\n",
       "</table>\n",
       "</div>"
      ],
      "text/plain": [
       "    index      Maas       Yas  Calisma Saati\n",
       "0    Atil -1.154263 -0.446345      -0.588347\n",
       "1  Zeynep  1.676850 -0.812888       0.492927\n",
       "2  Mehmet  0.327258  0.127499       0.898922\n",
       "3   Atlas  0.702826  0.364891       1.257225"
      ]
     },
     "execution_count": 40,
     "metadata": {},
     "output_type": "execute_result"
    }
   ],
   "source": [
    "yeniDataFrame.reset_index() #indexleri resetler"
   ]
  },
  {
   "cell_type": "code",
   "execution_count": 41,
   "id": "b9aaccec",
   "metadata": {},
   "outputs": [
    {
     "data": {
      "text/html": [
       "<div>\n",
       "<style scoped>\n",
       "    .dataframe tbody tr th:only-of-type {\n",
       "        vertical-align: middle;\n",
       "    }\n",
       "\n",
       "    .dataframe tbody tr th {\n",
       "        vertical-align: top;\n",
       "    }\n",
       "\n",
       "    .dataframe thead th {\n",
       "        text-align: right;\n",
       "    }\n",
       "</style>\n",
       "<table border=\"1\" class=\"dataframe\">\n",
       "  <thead>\n",
       "    <tr style=\"text-align: right;\">\n",
       "      <th></th>\n",
       "      <th>Maas</th>\n",
       "      <th>Yas</th>\n",
       "      <th>Calisma Saati</th>\n",
       "    </tr>\n",
       "  </thead>\n",
       "  <tbody>\n",
       "    <tr>\n",
       "      <th>Atil</th>\n",
       "      <td>-1.154263</td>\n",
       "      <td>-0.446345</td>\n",
       "      <td>-0.588347</td>\n",
       "    </tr>\n",
       "    <tr>\n",
       "      <th>Zeynep</th>\n",
       "      <td>1.676850</td>\n",
       "      <td>-0.812888</td>\n",
       "      <td>0.492927</td>\n",
       "    </tr>\n",
       "    <tr>\n",
       "      <th>Mehmet</th>\n",
       "      <td>0.327258</td>\n",
       "      <td>0.127499</td>\n",
       "      <td>0.898922</td>\n",
       "    </tr>\n",
       "    <tr>\n",
       "      <th>Atlas</th>\n",
       "      <td>0.702826</td>\n",
       "      <td>0.364891</td>\n",
       "      <td>1.257225</td>\n",
       "    </tr>\n",
       "  </tbody>\n",
       "</table>\n",
       "</div>"
      ],
      "text/plain": [
       "            Maas       Yas  Calisma Saati\n",
       "Atil   -1.154263 -0.446345      -0.588347\n",
       "Zeynep  1.676850 -0.812888       0.492927\n",
       "Mehmet  0.327258  0.127499       0.898922\n",
       "Atlas   0.702826  0.364891       1.257225"
      ]
     },
     "execution_count": 41,
     "metadata": {},
     "output_type": "execute_result"
    }
   ],
   "source": [
    "yeniDataFrame"
   ]
  },
  {
   "cell_type": "markdown",
   "id": "9108c1ee",
   "metadata": {},
   "source": [
    "eski haline döner, yine inplace kullanmak gerekir"
   ]
  },
  {
   "cell_type": "code",
   "execution_count": 44,
   "id": "dc17c846",
   "metadata": {},
   "outputs": [],
   "source": [
    "yeniIndeksListesi = [\"Ati\",\"Zey\",\"Atl\",\"Meh\"]"
   ]
  },
  {
   "cell_type": "code",
   "execution_count": 45,
   "id": "adc0bae9",
   "metadata": {},
   "outputs": [],
   "source": [
    "yeniDataFrame[\"yeni index\"] = yeniIndeksListesi  #yeni index listesini column olarak ekledik"
   ]
  },
  {
   "cell_type": "code",
   "execution_count": 46,
   "id": "cbda5650",
   "metadata": {},
   "outputs": [
    {
     "data": {
      "text/html": [
       "<div>\n",
       "<style scoped>\n",
       "    .dataframe tbody tr th:only-of-type {\n",
       "        vertical-align: middle;\n",
       "    }\n",
       "\n",
       "    .dataframe tbody tr th {\n",
       "        vertical-align: top;\n",
       "    }\n",
       "\n",
       "    .dataframe thead th {\n",
       "        text-align: right;\n",
       "    }\n",
       "</style>\n",
       "<table border=\"1\" class=\"dataframe\">\n",
       "  <thead>\n",
       "    <tr style=\"text-align: right;\">\n",
       "      <th></th>\n",
       "      <th>Maas</th>\n",
       "      <th>Yas</th>\n",
       "      <th>Calisma Saati</th>\n",
       "      <th>yeni index</th>\n",
       "    </tr>\n",
       "  </thead>\n",
       "  <tbody>\n",
       "    <tr>\n",
       "      <th>Atil</th>\n",
       "      <td>-1.154263</td>\n",
       "      <td>-0.446345</td>\n",
       "      <td>-0.588347</td>\n",
       "      <td>Ati</td>\n",
       "    </tr>\n",
       "    <tr>\n",
       "      <th>Zeynep</th>\n",
       "      <td>1.676850</td>\n",
       "      <td>-0.812888</td>\n",
       "      <td>0.492927</td>\n",
       "      <td>Zey</td>\n",
       "    </tr>\n",
       "    <tr>\n",
       "      <th>Mehmet</th>\n",
       "      <td>0.327258</td>\n",
       "      <td>0.127499</td>\n",
       "      <td>0.898922</td>\n",
       "      <td>Atl</td>\n",
       "    </tr>\n",
       "    <tr>\n",
       "      <th>Atlas</th>\n",
       "      <td>0.702826</td>\n",
       "      <td>0.364891</td>\n",
       "      <td>1.257225</td>\n",
       "      <td>Meh</td>\n",
       "    </tr>\n",
       "  </tbody>\n",
       "</table>\n",
       "</div>"
      ],
      "text/plain": [
       "            Maas       Yas  Calisma Saati yeni index\n",
       "Atil   -1.154263 -0.446345      -0.588347        Ati\n",
       "Zeynep  1.676850 -0.812888       0.492927        Zey\n",
       "Mehmet  0.327258  0.127499       0.898922        Atl\n",
       "Atlas   0.702826  0.364891       1.257225        Meh"
      ]
     },
     "execution_count": 46,
     "metadata": {},
     "output_type": "execute_result"
    }
   ],
   "source": [
    "yeniDataFrame"
   ]
  },
  {
   "cell_type": "markdown",
   "id": "35ae09c8",
   "metadata": {},
   "source": [
    "burda sadece column olarak var, index olarak eklemek için: set index yap"
   ]
  },
  {
   "cell_type": "code",
   "execution_count": 48,
   "id": "5c88af76",
   "metadata": {},
   "outputs": [
    {
     "data": {
      "text/html": [
       "<div>\n",
       "<style scoped>\n",
       "    .dataframe tbody tr th:only-of-type {\n",
       "        vertical-align: middle;\n",
       "    }\n",
       "\n",
       "    .dataframe tbody tr th {\n",
       "        vertical-align: top;\n",
       "    }\n",
       "\n",
       "    .dataframe thead th {\n",
       "        text-align: right;\n",
       "    }\n",
       "</style>\n",
       "<table border=\"1\" class=\"dataframe\">\n",
       "  <thead>\n",
       "    <tr style=\"text-align: right;\">\n",
       "      <th></th>\n",
       "      <th>Maas</th>\n",
       "      <th>Yas</th>\n",
       "      <th>Calisma Saati</th>\n",
       "    </tr>\n",
       "    <tr>\n",
       "      <th>yeni index</th>\n",
       "      <th></th>\n",
       "      <th></th>\n",
       "      <th></th>\n",
       "    </tr>\n",
       "  </thead>\n",
       "  <tbody>\n",
       "    <tr>\n",
       "      <th>Ati</th>\n",
       "      <td>-1.154263</td>\n",
       "      <td>-0.446345</td>\n",
       "      <td>-0.588347</td>\n",
       "    </tr>\n",
       "    <tr>\n",
       "      <th>Zey</th>\n",
       "      <td>1.676850</td>\n",
       "      <td>-0.812888</td>\n",
       "      <td>0.492927</td>\n",
       "    </tr>\n",
       "    <tr>\n",
       "      <th>Atl</th>\n",
       "      <td>0.327258</td>\n",
       "      <td>0.127499</td>\n",
       "      <td>0.898922</td>\n",
       "    </tr>\n",
       "    <tr>\n",
       "      <th>Meh</th>\n",
       "      <td>0.702826</td>\n",
       "      <td>0.364891</td>\n",
       "      <td>1.257225</td>\n",
       "    </tr>\n",
       "  </tbody>\n",
       "</table>\n",
       "</div>"
      ],
      "text/plain": [
       "                Maas       Yas  Calisma Saati\n",
       "yeni index                                   \n",
       "Ati        -1.154263 -0.446345      -0.588347\n",
       "Zey         1.676850 -0.812888       0.492927\n",
       "Atl         0.327258  0.127499       0.898922\n",
       "Meh         0.702826  0.364891       1.257225"
      ]
     },
     "execution_count": 48,
     "metadata": {},
     "output_type": "execute_result"
    }
   ],
   "source": [
    "yeniDataFrame.set_index(\"yeni index\")"
   ]
  },
  {
   "cell_type": "code",
   "execution_count": 49,
   "id": "d96a19b4",
   "metadata": {},
   "outputs": [
    {
     "data": {
      "text/html": [
       "<div>\n",
       "<style scoped>\n",
       "    .dataframe tbody tr th:only-of-type {\n",
       "        vertical-align: middle;\n",
       "    }\n",
       "\n",
       "    .dataframe tbody tr th {\n",
       "        vertical-align: top;\n",
       "    }\n",
       "\n",
       "    .dataframe thead th {\n",
       "        text-align: right;\n",
       "    }\n",
       "</style>\n",
       "<table border=\"1\" class=\"dataframe\">\n",
       "  <thead>\n",
       "    <tr style=\"text-align: right;\">\n",
       "      <th></th>\n",
       "      <th>Maas</th>\n",
       "      <th>Yas</th>\n",
       "      <th>Calisma Saati</th>\n",
       "      <th>yeni index</th>\n",
       "    </tr>\n",
       "  </thead>\n",
       "  <tbody>\n",
       "    <tr>\n",
       "      <th>Atil</th>\n",
       "      <td>-1.154263</td>\n",
       "      <td>-0.446345</td>\n",
       "      <td>-0.588347</td>\n",
       "      <td>Ati</td>\n",
       "    </tr>\n",
       "    <tr>\n",
       "      <th>Zeynep</th>\n",
       "      <td>1.676850</td>\n",
       "      <td>-0.812888</td>\n",
       "      <td>0.492927</td>\n",
       "      <td>Zey</td>\n",
       "    </tr>\n",
       "    <tr>\n",
       "      <th>Mehmet</th>\n",
       "      <td>0.327258</td>\n",
       "      <td>0.127499</td>\n",
       "      <td>0.898922</td>\n",
       "      <td>Atl</td>\n",
       "    </tr>\n",
       "    <tr>\n",
       "      <th>Atlas</th>\n",
       "      <td>0.702826</td>\n",
       "      <td>0.364891</td>\n",
       "      <td>1.257225</td>\n",
       "      <td>Meh</td>\n",
       "    </tr>\n",
       "  </tbody>\n",
       "</table>\n",
       "</div>"
      ],
      "text/plain": [
       "            Maas       Yas  Calisma Saati yeni index\n",
       "Atil   -1.154263 -0.446345      -0.588347        Ati\n",
       "Zeynep  1.676850 -0.812888       0.492927        Zey\n",
       "Mehmet  0.327258  0.127499       0.898922        Atl\n",
       "Atlas   0.702826  0.364891       1.257225        Meh"
      ]
     },
     "execution_count": 49,
     "metadata": {},
     "output_type": "execute_result"
    }
   ],
   "source": [
    "yeniDataFrame"
   ]
  },
  {
   "cell_type": "code",
   "execution_count": 50,
   "id": "567e6ab3",
   "metadata": {},
   "outputs": [],
   "source": [
    "yeniDataFrame.set_index(\"yeni index\",inplace = True)"
   ]
  },
  {
   "cell_type": "code",
   "execution_count": 51,
   "id": "18fcd85f",
   "metadata": {},
   "outputs": [
    {
     "data": {
      "text/html": [
       "<div>\n",
       "<style scoped>\n",
       "    .dataframe tbody tr th:only-of-type {\n",
       "        vertical-align: middle;\n",
       "    }\n",
       "\n",
       "    .dataframe tbody tr th {\n",
       "        vertical-align: top;\n",
       "    }\n",
       "\n",
       "    .dataframe thead th {\n",
       "        text-align: right;\n",
       "    }\n",
       "</style>\n",
       "<table border=\"1\" class=\"dataframe\">\n",
       "  <thead>\n",
       "    <tr style=\"text-align: right;\">\n",
       "      <th></th>\n",
       "      <th>Maas</th>\n",
       "      <th>Yas</th>\n",
       "      <th>Calisma Saati</th>\n",
       "    </tr>\n",
       "    <tr>\n",
       "      <th>yeni index</th>\n",
       "      <th></th>\n",
       "      <th></th>\n",
       "      <th></th>\n",
       "    </tr>\n",
       "  </thead>\n",
       "  <tbody>\n",
       "    <tr>\n",
       "      <th>Ati</th>\n",
       "      <td>-1.154263</td>\n",
       "      <td>-0.446345</td>\n",
       "      <td>-0.588347</td>\n",
       "    </tr>\n",
       "    <tr>\n",
       "      <th>Zey</th>\n",
       "      <td>1.676850</td>\n",
       "      <td>-0.812888</td>\n",
       "      <td>0.492927</td>\n",
       "    </tr>\n",
       "    <tr>\n",
       "      <th>Atl</th>\n",
       "      <td>0.327258</td>\n",
       "      <td>0.127499</td>\n",
       "      <td>0.898922</td>\n",
       "    </tr>\n",
       "    <tr>\n",
       "      <th>Meh</th>\n",
       "      <td>0.702826</td>\n",
       "      <td>0.364891</td>\n",
       "      <td>1.257225</td>\n",
       "    </tr>\n",
       "  </tbody>\n",
       "</table>\n",
       "</div>"
      ],
      "text/plain": [
       "                Maas       Yas  Calisma Saati\n",
       "yeni index                                   \n",
       "Ati        -1.154263 -0.446345      -0.588347\n",
       "Zey         1.676850 -0.812888       0.492927\n",
       "Atl         0.327258  0.127499       0.898922\n",
       "Meh         0.702826  0.364891       1.257225"
      ]
     },
     "execution_count": 51,
     "metadata": {},
     "output_type": "execute_result"
    }
   ],
   "source": [
    "yeniDataFrame"
   ]
  },
  {
   "cell_type": "markdown",
   "id": "fb76c76f",
   "metadata": {},
   "source": [
    "## multi index"
   ]
  },
  {
   "cell_type": "code",
   "execution_count": 53,
   "id": "05585a8e",
   "metadata": {},
   "outputs": [],
   "source": [
    "ilkIndeksler = [\"Simpson\",\"Simpson\",\"Simpson\",\"South Park\",\"South Park\",\"South Park\",]"
   ]
  },
  {
   "cell_type": "code",
   "execution_count": 54,
   "id": "ba8a1f98",
   "metadata": {},
   "outputs": [],
   "source": [
    "icIndeksler = [\"Homer\",\"Bart\",\"Marge\",\"Cartman\",\"Kenny\",\"Keyle\"]"
   ]
  },
  {
   "cell_type": "code",
   "execution_count": 55,
   "id": "540f6b05",
   "metadata": {},
   "outputs": [],
   "source": [
    "birlesmisIndeks = list(zip(ilkIndeksler,icIndeksler))"
   ]
  },
  {
   "cell_type": "code",
   "execution_count": 56,
   "id": "3b199a24",
   "metadata": {},
   "outputs": [
    {
     "data": {
      "text/plain": [
       "[('Simpson', 'Homer'),\n",
       " ('Simpson', 'Bart'),\n",
       " ('Simpson', 'Marge'),\n",
       " ('South Park', 'Cartman'),\n",
       " ('South Park', 'Kenny'),\n",
       " ('South Park', 'Keyle')]"
      ]
     },
     "execution_count": 56,
     "metadata": {},
     "output_type": "execute_result"
    }
   ],
   "source": [
    "birlesmisIndeks"
   ]
  },
  {
   "cell_type": "markdown",
   "id": "ad6696c8",
   "metadata": {},
   "source": [
    "iki indeksi birleştirdik ve tuple olarak tutar"
   ]
  },
  {
   "cell_type": "code",
   "execution_count": 57,
   "id": "bf339846",
   "metadata": {},
   "outputs": [],
   "source": [
    "birlesmisIndeks = pd.MultiIndex.from_tuples(birlesmisIndeks)"
   ]
  },
  {
   "cell_type": "markdown",
   "id": "1e53b6f6",
   "metadata": {},
   "source": [
    "multi indekse çevirdik"
   ]
  },
  {
   "cell_type": "code",
   "execution_count": 58,
   "id": "f668aced",
   "metadata": {},
   "outputs": [
    {
     "data": {
      "text/plain": [
       "MultiIndex([(   'Simpson',   'Homer'),\n",
       "            (   'Simpson',    'Bart'),\n",
       "            (   'Simpson',   'Marge'),\n",
       "            ('South Park', 'Cartman'),\n",
       "            ('South Park',   'Kenny'),\n",
       "            ('South Park',   'Keyle')],\n",
       "           )"
      ]
     },
     "execution_count": 58,
     "metadata": {},
     "output_type": "execute_result"
    }
   ],
   "source": [
    "birlesmisIndeks"
   ]
  },
  {
   "cell_type": "code",
   "execution_count": 60,
   "id": "9ef0f042",
   "metadata": {},
   "outputs": [],
   "source": [
    "cizgiFilmListem = [[40,\"A\"],[30,\"B\"],[50,\"C\"],[9,\"D\"],[10,\"E\"],[11,\"F\"]]  #YAS VE MESLEK DEĞERLERİ LİSTESİ"
   ]
  },
  {
   "cell_type": "code",
   "execution_count": 64,
   "id": "7439f3e8",
   "metadata": {},
   "outputs": [],
   "source": [
    "cizgiFilmNumpyDizisi = np.array(cizgiFilmListem)  #numpy dizisine dönüştürdük"
   ]
  },
  {
   "cell_type": "code",
   "execution_count": 65,
   "id": "cbe84573",
   "metadata": {},
   "outputs": [
    {
     "data": {
      "text/plain": [
       "array([['40', 'A'],\n",
       "       ['30', 'B'],\n",
       "       ['50', 'C'],\n",
       "       ['9', 'D'],\n",
       "       ['10', 'E'],\n",
       "       ['11', 'F']], dtype='<U11')"
      ]
     },
     "execution_count": 65,
     "metadata": {},
     "output_type": "execute_result"
    }
   ],
   "source": [
    "cizgiFilmNumpyDizisi"
   ]
  },
  {
   "cell_type": "code",
   "execution_count": 66,
   "id": "afcfb839",
   "metadata": {},
   "outputs": [],
   "source": [
    "cizgiFilmDataFrame = pd.DataFrame(cizgiFilmNumpyDizisi,index = birlesmisIndeks,columns = [\"Yas\",\"Meslek\"])"
   ]
  },
  {
   "cell_type": "code",
   "execution_count": 67,
   "id": "19c96540",
   "metadata": {},
   "outputs": [
    {
     "data": {
      "text/html": [
       "<div>\n",
       "<style scoped>\n",
       "    .dataframe tbody tr th:only-of-type {\n",
       "        vertical-align: middle;\n",
       "    }\n",
       "\n",
       "    .dataframe tbody tr th {\n",
       "        vertical-align: top;\n",
       "    }\n",
       "\n",
       "    .dataframe thead th {\n",
       "        text-align: right;\n",
       "    }\n",
       "</style>\n",
       "<table border=\"1\" class=\"dataframe\">\n",
       "  <thead>\n",
       "    <tr style=\"text-align: right;\">\n",
       "      <th></th>\n",
       "      <th></th>\n",
       "      <th>Yas</th>\n",
       "      <th>Meslek</th>\n",
       "    </tr>\n",
       "  </thead>\n",
       "  <tbody>\n",
       "    <tr>\n",
       "      <th rowspan=\"3\" valign=\"top\">Simpson</th>\n",
       "      <th>Homer</th>\n",
       "      <td>40</td>\n",
       "      <td>A</td>\n",
       "    </tr>\n",
       "    <tr>\n",
       "      <th>Bart</th>\n",
       "      <td>30</td>\n",
       "      <td>B</td>\n",
       "    </tr>\n",
       "    <tr>\n",
       "      <th>Marge</th>\n",
       "      <td>50</td>\n",
       "      <td>C</td>\n",
       "    </tr>\n",
       "    <tr>\n",
       "      <th rowspan=\"3\" valign=\"top\">South Park</th>\n",
       "      <th>Cartman</th>\n",
       "      <td>9</td>\n",
       "      <td>D</td>\n",
       "    </tr>\n",
       "    <tr>\n",
       "      <th>Kenny</th>\n",
       "      <td>10</td>\n",
       "      <td>E</td>\n",
       "    </tr>\n",
       "    <tr>\n",
       "      <th>Keyle</th>\n",
       "      <td>11</td>\n",
       "      <td>F</td>\n",
       "    </tr>\n",
       "  </tbody>\n",
       "</table>\n",
       "</div>"
      ],
      "text/plain": [
       "                   Yas Meslek\n",
       "Simpson    Homer    40      A\n",
       "           Bart     30      B\n",
       "           Marge    50      C\n",
       "South Park Cartman   9      D\n",
       "           Kenny    10      E\n",
       "           Keyle    11      F"
      ]
     },
     "execution_count": 67,
     "metadata": {},
     "output_type": "execute_result"
    }
   ],
   "source": [
    "cizgiFilmDataFrame"
   ]
  },
  {
   "cell_type": "code",
   "execution_count": 68,
   "id": "acc9b7bb",
   "metadata": {},
   "outputs": [
    {
     "data": {
      "text/html": [
       "<div>\n",
       "<style scoped>\n",
       "    .dataframe tbody tr th:only-of-type {\n",
       "        vertical-align: middle;\n",
       "    }\n",
       "\n",
       "    .dataframe tbody tr th {\n",
       "        vertical-align: top;\n",
       "    }\n",
       "\n",
       "    .dataframe thead th {\n",
       "        text-align: right;\n",
       "    }\n",
       "</style>\n",
       "<table border=\"1\" class=\"dataframe\">\n",
       "  <thead>\n",
       "    <tr style=\"text-align: right;\">\n",
       "      <th></th>\n",
       "      <th>Yas</th>\n",
       "      <th>Meslek</th>\n",
       "    </tr>\n",
       "  </thead>\n",
       "  <tbody>\n",
       "    <tr>\n",
       "      <th>Homer</th>\n",
       "      <td>40</td>\n",
       "      <td>A</td>\n",
       "    </tr>\n",
       "    <tr>\n",
       "      <th>Bart</th>\n",
       "      <td>30</td>\n",
       "      <td>B</td>\n",
       "    </tr>\n",
       "    <tr>\n",
       "      <th>Marge</th>\n",
       "      <td>50</td>\n",
       "      <td>C</td>\n",
       "    </tr>\n",
       "  </tbody>\n",
       "</table>\n",
       "</div>"
      ],
      "text/plain": [
       "      Yas Meslek\n",
       "Homer  40      A\n",
       "Bart   30      B\n",
       "Marge  50      C"
      ]
     },
     "execution_count": 68,
     "metadata": {},
     "output_type": "execute_result"
    }
   ],
   "source": [
    "cizgiFilmDataFrame.loc[\"Simpson\"]"
   ]
  },
  {
   "cell_type": "code",
   "execution_count": 69,
   "id": "dd6b6ad7",
   "metadata": {},
   "outputs": [
    {
     "data": {
      "text/html": [
       "<div>\n",
       "<style scoped>\n",
       "    .dataframe tbody tr th:only-of-type {\n",
       "        vertical-align: middle;\n",
       "    }\n",
       "\n",
       "    .dataframe tbody tr th {\n",
       "        vertical-align: top;\n",
       "    }\n",
       "\n",
       "    .dataframe thead th {\n",
       "        text-align: right;\n",
       "    }\n",
       "</style>\n",
       "<table border=\"1\" class=\"dataframe\">\n",
       "  <thead>\n",
       "    <tr style=\"text-align: right;\">\n",
       "      <th></th>\n",
       "      <th>Yas</th>\n",
       "      <th>Meslek</th>\n",
       "    </tr>\n",
       "  </thead>\n",
       "  <tbody>\n",
       "    <tr>\n",
       "      <th>Cartman</th>\n",
       "      <td>9</td>\n",
       "      <td>D</td>\n",
       "    </tr>\n",
       "    <tr>\n",
       "      <th>Kenny</th>\n",
       "      <td>10</td>\n",
       "      <td>E</td>\n",
       "    </tr>\n",
       "    <tr>\n",
       "      <th>Keyle</th>\n",
       "      <td>11</td>\n",
       "      <td>F</td>\n",
       "    </tr>\n",
       "  </tbody>\n",
       "</table>\n",
       "</div>"
      ],
      "text/plain": [
       "        Yas Meslek\n",
       "Cartman   9      D\n",
       "Kenny    10      E\n",
       "Keyle    11      F"
      ]
     },
     "execution_count": 69,
     "metadata": {},
     "output_type": "execute_result"
    }
   ],
   "source": [
    "cizgiFilmDataFrame.loc[\"South Park\"]"
   ]
  },
  {
   "cell_type": "code",
   "execution_count": 70,
   "id": "69515633",
   "metadata": {},
   "outputs": [
    {
     "data": {
      "text/plain": [
       "Yas       30\n",
       "Meslek     B\n",
       "Name: Bart, dtype: object"
      ]
     },
     "execution_count": 70,
     "metadata": {},
     "output_type": "execute_result"
    }
   ],
   "source": [
    "cizgiFilmDataFrame.loc[\"Simpson\"].loc[\"Bart\"]"
   ]
  },
  {
   "cell_type": "code",
   "execution_count": 73,
   "id": "ea1a4596",
   "metadata": {},
   "outputs": [],
   "source": [
    "cizgiFilmDataFrame.index.names = [\"Cizgi Fim\",\"Karakter\"] #indekslere isim verdik"
   ]
  },
  {
   "cell_type": "code",
   "execution_count": 74,
   "id": "d90549e3",
   "metadata": {},
   "outputs": [
    {
     "data": {
      "text/html": [
       "<div>\n",
       "<style scoped>\n",
       "    .dataframe tbody tr th:only-of-type {\n",
       "        vertical-align: middle;\n",
       "    }\n",
       "\n",
       "    .dataframe tbody tr th {\n",
       "        vertical-align: top;\n",
       "    }\n",
       "\n",
       "    .dataframe thead th {\n",
       "        text-align: right;\n",
       "    }\n",
       "</style>\n",
       "<table border=\"1\" class=\"dataframe\">\n",
       "  <thead>\n",
       "    <tr style=\"text-align: right;\">\n",
       "      <th></th>\n",
       "      <th></th>\n",
       "      <th>Yas</th>\n",
       "      <th>Meslek</th>\n",
       "    </tr>\n",
       "    <tr>\n",
       "      <th>Cizgi Fim</th>\n",
       "      <th>Karakter</th>\n",
       "      <th></th>\n",
       "      <th></th>\n",
       "    </tr>\n",
       "  </thead>\n",
       "  <tbody>\n",
       "    <tr>\n",
       "      <th rowspan=\"3\" valign=\"top\">Simpson</th>\n",
       "      <th>Homer</th>\n",
       "      <td>40</td>\n",
       "      <td>A</td>\n",
       "    </tr>\n",
       "    <tr>\n",
       "      <th>Bart</th>\n",
       "      <td>30</td>\n",
       "      <td>B</td>\n",
       "    </tr>\n",
       "    <tr>\n",
       "      <th>Marge</th>\n",
       "      <td>50</td>\n",
       "      <td>C</td>\n",
       "    </tr>\n",
       "    <tr>\n",
       "      <th rowspan=\"3\" valign=\"top\">South Park</th>\n",
       "      <th>Cartman</th>\n",
       "      <td>9</td>\n",
       "      <td>D</td>\n",
       "    </tr>\n",
       "    <tr>\n",
       "      <th>Kenny</th>\n",
       "      <td>10</td>\n",
       "      <td>E</td>\n",
       "    </tr>\n",
       "    <tr>\n",
       "      <th>Keyle</th>\n",
       "      <td>11</td>\n",
       "      <td>F</td>\n",
       "    </tr>\n",
       "  </tbody>\n",
       "</table>\n",
       "</div>"
      ],
      "text/plain": [
       "                    Yas Meslek\n",
       "Cizgi Fim  Karakter           \n",
       "Simpson    Homer     40      A\n",
       "           Bart      30      B\n",
       "           Marge     50      C\n",
       "South Park Cartman    9      D\n",
       "           Kenny     10      E\n",
       "           Keyle     11      F"
      ]
     },
     "execution_count": 74,
     "metadata": {},
     "output_type": "execute_result"
    }
   ],
   "source": [
    "cizgiFilmDataFrame"
   ]
  },
  {
   "cell_type": "code",
   "execution_count": null,
   "id": "d203c71b",
   "metadata": {},
   "outputs": [],
   "source": []
  }
 ],
 "metadata": {
  "kernelspec": {
   "display_name": "Python 3 (ipykernel)",
   "language": "python",
   "name": "python3"
  },
  "language_info": {
   "codemirror_mode": {
    "name": "ipython",
    "version": 3
   },
   "file_extension": ".py",
   "mimetype": "text/x-python",
   "name": "python",
   "nbconvert_exporter": "python",
   "pygments_lexer": "ipython3",
   "version": "3.9.17"
  }
 },
 "nbformat": 4,
 "nbformat_minor": 5
}
