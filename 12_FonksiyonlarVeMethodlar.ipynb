{
 "cells": [
  {
   "cell_type": "code",
   "execution_count": 1,
   "id": "f843e1c8",
   "metadata": {},
   "outputs": [],
   "source": [
    "benimAdim = \"gaye armut\""
   ]
  },
  {
   "cell_type": "code",
   "execution_count": 4,
   "id": "6e0c1c0a",
   "metadata": {},
   "outputs": [
    {
     "data": {
      "text/plain": [
       "'GAYE ARMUT'"
      ]
     },
     "execution_count": 4,
     "metadata": {},
     "output_type": "execute_result"
    }
   ],
   "source": [
    "benimAdim.upper() #fonkisyon"
   ]
  },
  {
   "cell_type": "code",
   "execution_count": 5,
   "id": "56882e73",
   "metadata": {},
   "outputs": [
    {
     "data": {
      "text/plain": [
       "'gaye armut'"
      ]
     },
     "execution_count": 5,
     "metadata": {},
     "output_type": "execute_result"
    }
   ],
   "source": [
    "benimAdim"
   ]
  },
  {
   "cell_type": "markdown",
   "id": "c8651d18",
   "metadata": {},
   "source": [
    "#fonksiyon yazmak için : \"def func_name():\" yapısını kullanırız"
   ]
  },
  {
   "cell_type": "code",
   "execution_count": 6,
   "id": "ad28b89d",
   "metadata": {},
   "outputs": [],
   "source": [
    "def ilkfonksiyon():\n",
    "    print(\"ilk fonksiyonum\")"
   ]
  },
  {
   "cell_type": "code",
   "execution_count": 7,
   "id": "9369c1dd",
   "metadata": {},
   "outputs": [
    {
     "name": "stdout",
     "output_type": "stream",
     "text": [
      "ilk fonksiyonum\n"
     ]
    }
   ],
   "source": [
    "ilkfonksiyon()"
   ]
  },
  {
   "cell_type": "markdown",
   "id": "2626f978",
   "metadata": {},
   "source": [
    "## input  & return"
   ]
  },
  {
   "cell_type": "code",
   "execution_count": 8,
   "id": "122da038",
   "metadata": {},
   "outputs": [],
   "source": [
    "def merhabaDunya(x):\n",
    "    print(\"merhaba\")\n",
    "    print(x)"
   ]
  },
  {
   "cell_type": "code",
   "execution_count": 9,
   "id": "e3f5e58c",
   "metadata": {},
   "outputs": [
    {
     "name": "stdout",
     "output_type": "stream",
     "text": [
      "merhaba\n",
      "Gaye\n"
     ]
    }
   ],
   "source": [
    "merhabaDunya(\"Gaye\")"
   ]
  },
  {
   "cell_type": "code",
   "execution_count": 10,
   "id": "b822fa93",
   "metadata": {},
   "outputs": [],
   "source": [
    "def merhaba(isim = \"atıl\"):\n",
    "    print(\"merhaba\")\n",
    "    print(isim)"
   ]
  },
  {
   "cell_type": "code",
   "execution_count": 11,
   "id": "9b9c2311",
   "metadata": {},
   "outputs": [
    {
     "name": "stdout",
     "output_type": "stream",
     "text": [
      "merhaba\n",
      "atıl\n"
     ]
    }
   ],
   "source": [
    "merhaba()"
   ]
  },
  {
   "cell_type": "code",
   "execution_count": 12,
   "id": "a08152a0",
   "metadata": {},
   "outputs": [
    {
     "name": "stdout",
     "output_type": "stream",
     "text": [
      "merhaba\n",
      "gaye\n"
     ]
    }
   ],
   "source": [
    "merhaba(\"gaye\")"
   ]
  },
  {
   "cell_type": "code",
   "execution_count": 13,
   "id": "db9ab9ff",
   "metadata": {},
   "outputs": [],
   "source": [
    "def superToplama(num1,num2,num3):\n",
    "    print(num1+num2+num3)"
   ]
  },
  {
   "cell_type": "code",
   "execution_count": 14,
   "id": "285d5e80",
   "metadata": {},
   "outputs": [
    {
     "name": "stdout",
     "output_type": "stream",
     "text": [
      "60\n"
     ]
    }
   ],
   "source": [
    "superToplama(10,20,30)"
   ]
  },
  {
   "cell_type": "code",
   "execution_count": 16,
   "id": "047eec64",
   "metadata": {},
   "outputs": [],
   "source": [
    "def dondurmeliToplama (num1,num2):\n",
    "    return num1 + num2"
   ]
  },
  {
   "cell_type": "code",
   "execution_count": 17,
   "id": "3fd9f1ca",
   "metadata": {},
   "outputs": [
    {
     "data": {
      "text/plain": [
       "30"
      ]
     },
     "execution_count": 17,
     "metadata": {},
     "output_type": "execute_result"
    }
   ],
   "source": [
    "dondurmeliToplama(10,20)"
   ]
  },
  {
   "cell_type": "markdown",
   "id": "8a89c6aa",
   "metadata": {},
   "source": [
    "## args & kwargs"
   ]
  },
  {
   "cell_type": "code",
   "execution_count": 18,
   "id": "565d6e55",
   "metadata": {},
   "outputs": [],
   "source": [
    "def yeniToplama(*args):\n",
    "    return sum(args)"
   ]
  },
  {
   "cell_type": "code",
   "execution_count": 19,
   "id": "aac4ee51",
   "metadata": {},
   "outputs": [
    {
     "data": {
      "text/plain": [
       "150"
      ]
     },
     "execution_count": 19,
     "metadata": {},
     "output_type": "execute_result"
    }
   ],
   "source": [
    "yeniToplama(10,20,30,40,50)"
   ]
  },
  {
   "cell_type": "code",
   "execution_count": 20,
   "id": "861500cd",
   "metadata": {
    "scrolled": true
   },
   "outputs": [
    {
     "data": {
      "text/plain": [
       "35"
      ]
     },
     "execution_count": 20,
     "metadata": {},
     "output_type": "execute_result"
    }
   ],
   "source": [
    "yeniToplama(15,20)"
   ]
  },
  {
   "cell_type": "code",
   "execution_count": 21,
   "id": "913be2b8",
   "metadata": {},
   "outputs": [],
   "source": [
    "def benimFonk(*args):\n",
    "    print(args)"
   ]
  },
  {
   "cell_type": "code",
   "execution_count": 23,
   "id": "c172eeec",
   "metadata": {},
   "outputs": [
    {
     "name": "stdout",
     "output_type": "stream",
     "text": [
      "(10, 20, 30)\n"
     ]
    },
    {
     "data": {
      "text/plain": [
       "NoneType"
      ]
     },
     "execution_count": 23,
     "metadata": {},
     "output_type": "execute_result"
    }
   ],
   "source": [
    "type(benimFonk(10,20,30))"
   ]
  },
  {
   "cell_type": "code",
   "execution_count": 24,
   "id": "3666e3c9",
   "metadata": {},
   "outputs": [],
   "source": [
    "def benimFonk(*args):\n",
    "    return args"
   ]
  },
  {
   "cell_type": "code",
   "execution_count": 25,
   "id": "37426017",
   "metadata": {},
   "outputs": [
    {
     "data": {
      "text/plain": [
       "tuple"
      ]
     },
     "execution_count": 25,
     "metadata": {},
     "output_type": "execute_result"
    }
   ],
   "source": [
    "type(benimFonk(10,20,30))"
   ]
  },
  {
   "cell_type": "code",
   "execution_count": 29,
   "id": "4af5431c",
   "metadata": {},
   "outputs": [],
   "source": [
    "def ornekFonk(**kwargs):\n",
    "     return kwargs"
   ]
  },
  {
   "cell_type": "code",
   "execution_count": 30,
   "id": "282f95a3",
   "metadata": {},
   "outputs": [
    {
     "data": {
      "text/plain": [
       "{'muz': 100, 'elma': 200, 'ananas': 300}"
      ]
     },
     "execution_count": 30,
     "metadata": {},
     "output_type": "execute_result"
    }
   ],
   "source": [
    "ornekFonk(muz = 100,elma = 200, ananas = 300)"
   ]
  },
  {
   "cell_type": "code",
   "execution_count": 31,
   "id": "c7c9602f",
   "metadata": {},
   "outputs": [
    {
     "data": {
      "text/plain": [
       "dict"
      ]
     },
     "execution_count": 31,
     "metadata": {},
     "output_type": "execute_result"
    }
   ],
   "source": [
    "type(ornekFonk(muz = 100,elma = 200, ananas = 300))"
   ]
  },
  {
   "cell_type": "code",
   "execution_count": 32,
   "id": "0938d0fa",
   "metadata": {},
   "outputs": [],
   "source": [
    "def keyWordKontrol(**kwargs):\n",
    "    if \"atıl\" in kwargs:\n",
    "        print(\"atıl var\")\n",
    "    else:\n",
    "        print(\"atıl yok\")"
   ]
  },
  {
   "cell_type": "code",
   "execution_count": 33,
   "id": "f3e9f88e",
   "metadata": {},
   "outputs": [
    {
     "name": "stdout",
     "output_type": "stream",
     "text": [
      "atıl yok\n"
     ]
    }
   ],
   "source": [
    "keyWordKontrol(ahmet = 10, zeynep = 30 , kayra = 70)"
   ]
  },
  {
   "cell_type": "code",
   "execution_count": null,
   "id": "521dd280",
   "metadata": {},
   "outputs": [],
   "source": []
  }
 ],
 "metadata": {
  "kernelspec": {
   "display_name": "Python 3 (ipykernel)",
   "language": "python",
   "name": "python3"
  },
  "language_info": {
   "codemirror_mode": {
    "name": "ipython",
    "version": 3
   },
   "file_extension": ".py",
   "mimetype": "text/x-python",
   "name": "python",
   "nbconvert_exporter": "python",
   "pygments_lexer": "ipython3",
   "version": "3.11.4"
  }
 },
 "nbformat": 4,
 "nbformat_minor": 5
}
